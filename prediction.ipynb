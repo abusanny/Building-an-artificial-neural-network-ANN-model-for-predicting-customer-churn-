{
 "cells": [
  {
   "cell_type": "code",
   "execution_count": 1,
   "id": "4b9d5532-2c07-4e69-a653-287c4edd92b7",
   "metadata": {},
   "outputs": [
    {
     "name": "stdout",
     "output_type": "stream",
     "text": [
      "gpu details [PhysicalDevice(name='/physical_device:GPU:0', device_type='GPU')]\n",
      "no of gpu 1\n"
     ]
    }
   ],
   "source": [
    "import tensorflow as tf \n",
    "gpus=tf.config.list_physical_devices(\"GPU\")\n",
    "print(\"gpu details\",gpus)\n",
    "print(\"no of gpu\",len(gpus))"
   ]
  },
  {
   "cell_type": "code",
   "execution_count": 5,
   "id": "1a67cdcb-1404-4c20-a351-4386bacb594f",
   "metadata": {},
   "outputs": [
    {
     "name": "stdout",
     "output_type": "stream",
     "text": [
      "Collecting tensorflow-gpu\n",
      "  Using cached tensorflow-gpu-2.12.0.tar.gz (2.6 kB)\n",
      "  Preparing metadata (setup.py) ... \u001b[?25lerror\n",
      "  \u001b[1;31merror\u001b[0m: \u001b[1msubprocess-exited-with-error\u001b[0m\n",
      "  \n",
      "  \u001b[31m×\u001b[0m \u001b[32mpython setup.py egg_info\u001b[0m did not run successfully.\n",
      "  \u001b[31m│\u001b[0m exit code: \u001b[1;36m1\u001b[0m\n",
      "  \u001b[31m╰─>\u001b[0m \u001b[31m[39 lines of output]\u001b[0m\n",
      "  \u001b[31m   \u001b[0m Traceback (most recent call last):\n",
      "  \u001b[31m   \u001b[0m   File \"/Users/sannyr/miniforge3/lib/python3.10/site-packages/setuptools/_vendor/packaging/requirements.py\", line 35, in __init__\n",
      "  \u001b[31m   \u001b[0m     parsed = _parse_requirement(requirement_string)\n",
      "  \u001b[31m   \u001b[0m   File \"/Users/sannyr/miniforge3/lib/python3.10/site-packages/setuptools/_vendor/packaging/_parser.py\", line 64, in parse_requirement\n",
      "  \u001b[31m   \u001b[0m     return _parse_requirement(Tokenizer(source, rules=DEFAULT_RULES))\n",
      "  \u001b[31m   \u001b[0m   File \"/Users/sannyr/miniforge3/lib/python3.10/site-packages/setuptools/_vendor/packaging/_parser.py\", line 82, in _parse_requirement\n",
      "  \u001b[31m   \u001b[0m     url, specifier, marker = _parse_requirement_details(tokenizer)\n",
      "  \u001b[31m   \u001b[0m   File \"/Users/sannyr/miniforge3/lib/python3.10/site-packages/setuptools/_vendor/packaging/_parser.py\", line 126, in _parse_requirement_details\n",
      "  \u001b[31m   \u001b[0m     marker = _parse_requirement_marker(\n",
      "  \u001b[31m   \u001b[0m   File \"/Users/sannyr/miniforge3/lib/python3.10/site-packages/setuptools/_vendor/packaging/_parser.py\", line 147, in _parse_requirement_marker\n",
      "  \u001b[31m   \u001b[0m     tokenizer.raise_syntax_error(\n",
      "  \u001b[31m   \u001b[0m   File \"/Users/sannyr/miniforge3/lib/python3.10/site-packages/setuptools/_vendor/packaging/_tokenizer.py\", line 165, in raise_syntax_error\n",
      "  \u001b[31m   \u001b[0m     raise ParserSyntaxError(\n",
      "  \u001b[31m   \u001b[0m setuptools.extern.packaging._tokenizer.ParserSyntaxError: Expected end or semicolon (after name and no valid version specifier)\n",
      "  \u001b[31m   \u001b[0m     python_version>\"3.7\"\n",
      "  \u001b[31m   \u001b[0m                   ^\n",
      "  \u001b[31m   \u001b[0m \n",
      "  \u001b[31m   \u001b[0m The above exception was the direct cause of the following exception:\n",
      "  \u001b[31m   \u001b[0m \n",
      "  \u001b[31m   \u001b[0m Traceback (most recent call last):\n",
      "  \u001b[31m   \u001b[0m   File \"<string>\", line 2, in <module>\n",
      "  \u001b[31m   \u001b[0m   File \"<pip-setuptools-caller>\", line 34, in <module>\n",
      "  \u001b[31m   \u001b[0m   File \"/private/var/folders/hg/y3_sf93d2k17l3rb_s9p38ww0000gn/T/pip-install-9c5eh719/tensorflow-gpu_f7d06b9431a747719a597c0fe2ed3100/setup.py\", line 40, in <module>\n",
      "  \u001b[31m   \u001b[0m     setuptools.setup()\n",
      "  \u001b[31m   \u001b[0m   File \"/Users/sannyr/miniforge3/lib/python3.10/site-packages/setuptools/__init__.py\", line 103, in setup\n",
      "  \u001b[31m   \u001b[0m     _install_setup_requires(attrs)\n",
      "  \u001b[31m   \u001b[0m   File \"/Users/sannyr/miniforge3/lib/python3.10/site-packages/setuptools/__init__.py\", line 74, in _install_setup_requires\n",
      "  \u001b[31m   \u001b[0m     dist.parse_config_files(ignore_option_errors=True)\n",
      "  \u001b[31m   \u001b[0m   File \"/Users/sannyr/miniforge3/lib/python3.10/site-packages/setuptools/dist.py\", line 633, in parse_config_files\n",
      "  \u001b[31m   \u001b[0m     self._finalize_requires()\n",
      "  \u001b[31m   \u001b[0m   File \"/Users/sannyr/miniforge3/lib/python3.10/site-packages/setuptools/dist.py\", line 368, in _finalize_requires\n",
      "  \u001b[31m   \u001b[0m     self._normalize_requires()\n",
      "  \u001b[31m   \u001b[0m   File \"/Users/sannyr/miniforge3/lib/python3.10/site-packages/setuptools/dist.py\", line 383, in _normalize_requires\n",
      "  \u001b[31m   \u001b[0m     self.install_requires = list(map(str, _reqs.parse(install_requires)))\n",
      "  \u001b[31m   \u001b[0m   File \"/Users/sannyr/miniforge3/lib/python3.10/site-packages/setuptools/_vendor/packaging/requirements.py\", line 37, in __init__\n",
      "  \u001b[31m   \u001b[0m     raise InvalidRequirement(str(e)) from e\n",
      "  \u001b[31m   \u001b[0m setuptools.extern.packaging.requirements.InvalidRequirement: Expected end or semicolon (after name and no valid version specifier)\n",
      "  \u001b[31m   \u001b[0m     python_version>\"3.7\"\n",
      "  \u001b[31m   \u001b[0m                   ^\n",
      "  \u001b[31m   \u001b[0m \u001b[31m[end of output]\u001b[0m\n",
      "  \n",
      "  \u001b[1;35mnote\u001b[0m: This error originates from a subprocess, and is likely not a problem with pip.\n",
      "\u001b[1;31merror\u001b[0m: \u001b[1mmetadata-generation-failed\u001b[0m\n",
      "\n",
      "\u001b[31m×\u001b[0m Encountered error while generating package metadata.\n",
      "\u001b[31m╰─>\u001b[0m See above for output.\n",
      "\n",
      "\u001b[1;35mnote\u001b[0m: This is an issue with the package mentioned above, not pip.\n",
      "\u001b[1;36mhint\u001b[0m: See above for details.\n",
      "\u001b[?25h"
     ]
    }
   ],
   "source": [
    "!pip install tensorflow-gpu"
   ]
  },
  {
   "cell_type": "code",
   "execution_count": 2,
   "id": "762bd93f-550c-4715-91ce-eeff57ae6260",
   "metadata": {},
   "outputs": [
    {
     "name": "stdout",
     "output_type": "stream",
     "text": [
      "2.16.2\n"
     ]
    }
   ],
   "source": [
    "import tensorflow as tf\n",
    "print(tf.__version__)"
   ]
  },
  {
   "cell_type": "code",
   "execution_count": 7,
   "id": "f0674d84-acb4-40d7-b19a-a7538a1b736b",
   "metadata": {},
   "outputs": [],
   "source": [
    "import pandas as pd"
   ]
  },
  {
   "cell_type": "code",
   "execution_count": 8,
   "id": "29f8ab19-f1ac-4bc1-9d72-7a60520ec644",
   "metadata": {},
   "outputs": [],
   "source": [
    "df=pd.read_csv(\"Churn_Modelling.csv\")"
   ]
  },
  {
   "cell_type": "code",
   "execution_count": 9,
   "id": "63bd4398-2399-4e3d-802f-a0bba2ba7792",
   "metadata": {},
   "outputs": [
    {
     "data": {
      "text/html": [
       "<div>\n",
       "<style scoped>\n",
       "    .dataframe tbody tr th:only-of-type {\n",
       "        vertical-align: middle;\n",
       "    }\n",
       "\n",
       "    .dataframe tbody tr th {\n",
       "        vertical-align: top;\n",
       "    }\n",
       "\n",
       "    .dataframe thead th {\n",
       "        text-align: right;\n",
       "    }\n",
       "</style>\n",
       "<table border=\"1\" class=\"dataframe\">\n",
       "  <thead>\n",
       "    <tr style=\"text-align: right;\">\n",
       "      <th></th>\n",
       "      <th>RowNumber</th>\n",
       "      <th>CustomerId</th>\n",
       "      <th>Surname</th>\n",
       "      <th>CreditScore</th>\n",
       "      <th>Geography</th>\n",
       "      <th>Gender</th>\n",
       "      <th>Age</th>\n",
       "      <th>Tenure</th>\n",
       "      <th>Balance</th>\n",
       "      <th>NumOfProducts</th>\n",
       "      <th>HasCrCard</th>\n",
       "      <th>IsActiveMember</th>\n",
       "      <th>EstimatedSalary</th>\n",
       "      <th>Exited</th>\n",
       "    </tr>\n",
       "  </thead>\n",
       "  <tbody>\n",
       "    <tr>\n",
       "      <th>0</th>\n",
       "      <td>1</td>\n",
       "      <td>15634602</td>\n",
       "      <td>Hargrave</td>\n",
       "      <td>619</td>\n",
       "      <td>France</td>\n",
       "      <td>Female</td>\n",
       "      <td>42</td>\n",
       "      <td>2</td>\n",
       "      <td>0.00</td>\n",
       "      <td>1</td>\n",
       "      <td>1</td>\n",
       "      <td>1</td>\n",
       "      <td>101348.88</td>\n",
       "      <td>1</td>\n",
       "    </tr>\n",
       "    <tr>\n",
       "      <th>1</th>\n",
       "      <td>2</td>\n",
       "      <td>15647311</td>\n",
       "      <td>Hill</td>\n",
       "      <td>608</td>\n",
       "      <td>Spain</td>\n",
       "      <td>Female</td>\n",
       "      <td>41</td>\n",
       "      <td>1</td>\n",
       "      <td>83807.86</td>\n",
       "      <td>1</td>\n",
       "      <td>0</td>\n",
       "      <td>1</td>\n",
       "      <td>112542.58</td>\n",
       "      <td>0</td>\n",
       "    </tr>\n",
       "    <tr>\n",
       "      <th>2</th>\n",
       "      <td>3</td>\n",
       "      <td>15619304</td>\n",
       "      <td>Onio</td>\n",
       "      <td>502</td>\n",
       "      <td>France</td>\n",
       "      <td>Female</td>\n",
       "      <td>42</td>\n",
       "      <td>8</td>\n",
       "      <td>159660.80</td>\n",
       "      <td>3</td>\n",
       "      <td>1</td>\n",
       "      <td>0</td>\n",
       "      <td>113931.57</td>\n",
       "      <td>1</td>\n",
       "    </tr>\n",
       "    <tr>\n",
       "      <th>3</th>\n",
       "      <td>4</td>\n",
       "      <td>15701354</td>\n",
       "      <td>Boni</td>\n",
       "      <td>699</td>\n",
       "      <td>France</td>\n",
       "      <td>Female</td>\n",
       "      <td>39</td>\n",
       "      <td>1</td>\n",
       "      <td>0.00</td>\n",
       "      <td>2</td>\n",
       "      <td>0</td>\n",
       "      <td>0</td>\n",
       "      <td>93826.63</td>\n",
       "      <td>0</td>\n",
       "    </tr>\n",
       "    <tr>\n",
       "      <th>4</th>\n",
       "      <td>5</td>\n",
       "      <td>15737888</td>\n",
       "      <td>Mitchell</td>\n",
       "      <td>850</td>\n",
       "      <td>Spain</td>\n",
       "      <td>Female</td>\n",
       "      <td>43</td>\n",
       "      <td>2</td>\n",
       "      <td>125510.82</td>\n",
       "      <td>1</td>\n",
       "      <td>1</td>\n",
       "      <td>1</td>\n",
       "      <td>79084.10</td>\n",
       "      <td>0</td>\n",
       "    </tr>\n",
       "  </tbody>\n",
       "</table>\n",
       "</div>"
      ],
      "text/plain": [
       "   RowNumber  CustomerId   Surname  CreditScore Geography  Gender  Age  \\\n",
       "0          1    15634602  Hargrave          619    France  Female   42   \n",
       "1          2    15647311      Hill          608     Spain  Female   41   \n",
       "2          3    15619304      Onio          502    France  Female   42   \n",
       "3          4    15701354      Boni          699    France  Female   39   \n",
       "4          5    15737888  Mitchell          850     Spain  Female   43   \n",
       "\n",
       "   Tenure    Balance  NumOfProducts  HasCrCard  IsActiveMember  \\\n",
       "0       2       0.00              1          1               1   \n",
       "1       1   83807.86              1          0               1   \n",
       "2       8  159660.80              3          1               0   \n",
       "3       1       0.00              2          0               0   \n",
       "4       2  125510.82              1          1               1   \n",
       "\n",
       "   EstimatedSalary  Exited  \n",
       "0        101348.88       1  \n",
       "1        112542.58       0  \n",
       "2        113931.57       1  \n",
       "3         93826.63       0  \n",
       "4         79084.10       0  "
      ]
     },
     "execution_count": 9,
     "metadata": {},
     "output_type": "execute_result"
    }
   ],
   "source": [
    "df.head()"
   ]
  },
  {
   "cell_type": "code",
   "execution_count": 10,
   "id": "1dda52cd-eb85-4f9a-92a4-eb84cadb3e30",
   "metadata": {},
   "outputs": [
    {
     "name": "stdout",
     "output_type": "stream",
     "text": [
      "<class 'pandas.core.frame.DataFrame'>\n",
      "RangeIndex: 10000 entries, 0 to 9999\n",
      "Data columns (total 14 columns):\n",
      " #   Column           Non-Null Count  Dtype  \n",
      "---  ------           --------------  -----  \n",
      " 0   RowNumber        10000 non-null  int64  \n",
      " 1   CustomerId       10000 non-null  int64  \n",
      " 2   Surname          10000 non-null  object \n",
      " 3   CreditScore      10000 non-null  int64  \n",
      " 4   Geography        10000 non-null  object \n",
      " 5   Gender           10000 non-null  object \n",
      " 6   Age              10000 non-null  int64  \n",
      " 7   Tenure           10000 non-null  int64  \n",
      " 8   Balance          10000 non-null  float64\n",
      " 9   NumOfProducts    10000 non-null  int64  \n",
      " 10  HasCrCard        10000 non-null  int64  \n",
      " 11  IsActiveMember   10000 non-null  int64  \n",
      " 12  EstimatedSalary  10000 non-null  float64\n",
      " 13  Exited           10000 non-null  int64  \n",
      "dtypes: float64(2), int64(9), object(3)\n",
      "memory usage: 1.1+ MB\n"
     ]
    }
   ],
   "source": [
    "df.info()"
   ]
  },
  {
   "cell_type": "code",
   "execution_count": 11,
   "id": "f13e9e7a-67fa-4bca-9f97-68ece12e67dd",
   "metadata": {},
   "outputs": [],
   "source": [
    "import numpy as np\n",
    "import matplotlib.pyplot as plt\n"
   ]
  },
  {
   "cell_type": "code",
   "execution_count": 13,
   "id": "d713acfd-5e97-4573-a9ad-502a0f8b3efa",
   "metadata": {},
   "outputs": [],
   "source": [
    "#divide the dataset\n",
    "X=df.iloc[:,3:13]\n",
    "y=df.iloc[:,13]"
   ]
  },
  {
   "cell_type": "code",
   "execution_count": 14,
   "id": "630785ff-add4-48d1-ab41-9365f9b5bf94",
   "metadata": {},
   "outputs": [
    {
     "data": {
      "text/html": [
       "<div>\n",
       "<style scoped>\n",
       "    .dataframe tbody tr th:only-of-type {\n",
       "        vertical-align: middle;\n",
       "    }\n",
       "\n",
       "    .dataframe tbody tr th {\n",
       "        vertical-align: top;\n",
       "    }\n",
       "\n",
       "    .dataframe thead th {\n",
       "        text-align: right;\n",
       "    }\n",
       "</style>\n",
       "<table border=\"1\" class=\"dataframe\">\n",
       "  <thead>\n",
       "    <tr style=\"text-align: right;\">\n",
       "      <th></th>\n",
       "      <th>CreditScore</th>\n",
       "      <th>Geography</th>\n",
       "      <th>Gender</th>\n",
       "      <th>Age</th>\n",
       "      <th>Tenure</th>\n",
       "      <th>Balance</th>\n",
       "      <th>NumOfProducts</th>\n",
       "      <th>HasCrCard</th>\n",
       "      <th>IsActiveMember</th>\n",
       "      <th>EstimatedSalary</th>\n",
       "    </tr>\n",
       "  </thead>\n",
       "  <tbody>\n",
       "    <tr>\n",
       "      <th>0</th>\n",
       "      <td>619</td>\n",
       "      <td>France</td>\n",
       "      <td>Female</td>\n",
       "      <td>42</td>\n",
       "      <td>2</td>\n",
       "      <td>0.00</td>\n",
       "      <td>1</td>\n",
       "      <td>1</td>\n",
       "      <td>1</td>\n",
       "      <td>101348.88</td>\n",
       "    </tr>\n",
       "    <tr>\n",
       "      <th>1</th>\n",
       "      <td>608</td>\n",
       "      <td>Spain</td>\n",
       "      <td>Female</td>\n",
       "      <td>41</td>\n",
       "      <td>1</td>\n",
       "      <td>83807.86</td>\n",
       "      <td>1</td>\n",
       "      <td>0</td>\n",
       "      <td>1</td>\n",
       "      <td>112542.58</td>\n",
       "    </tr>\n",
       "    <tr>\n",
       "      <th>2</th>\n",
       "      <td>502</td>\n",
       "      <td>France</td>\n",
       "      <td>Female</td>\n",
       "      <td>42</td>\n",
       "      <td>8</td>\n",
       "      <td>159660.80</td>\n",
       "      <td>3</td>\n",
       "      <td>1</td>\n",
       "      <td>0</td>\n",
       "      <td>113931.57</td>\n",
       "    </tr>\n",
       "    <tr>\n",
       "      <th>3</th>\n",
       "      <td>699</td>\n",
       "      <td>France</td>\n",
       "      <td>Female</td>\n",
       "      <td>39</td>\n",
       "      <td>1</td>\n",
       "      <td>0.00</td>\n",
       "      <td>2</td>\n",
       "      <td>0</td>\n",
       "      <td>0</td>\n",
       "      <td>93826.63</td>\n",
       "    </tr>\n",
       "    <tr>\n",
       "      <th>4</th>\n",
       "      <td>850</td>\n",
       "      <td>Spain</td>\n",
       "      <td>Female</td>\n",
       "      <td>43</td>\n",
       "      <td>2</td>\n",
       "      <td>125510.82</td>\n",
       "      <td>1</td>\n",
       "      <td>1</td>\n",
       "      <td>1</td>\n",
       "      <td>79084.10</td>\n",
       "    </tr>\n",
       "  </tbody>\n",
       "</table>\n",
       "</div>"
      ],
      "text/plain": [
       "   CreditScore Geography  Gender  Age  Tenure    Balance  NumOfProducts  \\\n",
       "0          619    France  Female   42       2       0.00              1   \n",
       "1          608     Spain  Female   41       1   83807.86              1   \n",
       "2          502    France  Female   42       8  159660.80              3   \n",
       "3          699    France  Female   39       1       0.00              2   \n",
       "4          850     Spain  Female   43       2  125510.82              1   \n",
       "\n",
       "   HasCrCard  IsActiveMember  EstimatedSalary  \n",
       "0          1               1        101348.88  \n",
       "1          0               1        112542.58  \n",
       "2          1               0        113931.57  \n",
       "3          0               0         93826.63  \n",
       "4          1               1         79084.10  "
      ]
     },
     "execution_count": 14,
     "metadata": {},
     "output_type": "execute_result"
    }
   ],
   "source": [
    "X.head()"
   ]
  },
  {
   "cell_type": "code",
   "execution_count": 15,
   "id": "8e197f87-37fb-4d73-90f7-daee15f72874",
   "metadata": {},
   "outputs": [
    {
     "data": {
      "text/plain": [
       "0    1\n",
       "1    0\n",
       "2    1\n",
       "3    0\n",
       "4    0\n",
       "Name: Exited, dtype: int64"
      ]
     },
     "execution_count": 15,
     "metadata": {},
     "output_type": "execute_result"
    }
   ],
   "source": [
    "y.head()"
   ]
  },
  {
   "cell_type": "code",
   "execution_count": 31,
   "id": "90b1f42a-8ee2-4f82-9c89-3ed6b4568dc8",
   "metadata": {},
   "outputs": [
    {
     "ename": "AttributeError",
     "evalue": "module 'pandas' has no attribute 'OneHotEncoder'",
     "output_type": "error",
     "traceback": [
      "\u001b[0;31m---------------------------------------------------------------------------\u001b[0m",
      "\u001b[0;31mAttributeError\u001b[0m                            Traceback (most recent call last)",
      "Cell \u001b[0;32mIn[31], line 2\u001b[0m\n\u001b[1;32m      1\u001b[0m \u001b[38;5;66;03m#Feature Eng\u001b[39;00m\n\u001b[0;32m----> 2\u001b[0m geography\u001b[38;5;241m=\u001b[39m\u001b[43mpd\u001b[49m\u001b[38;5;241;43m.\u001b[39;49m\u001b[43mOneHotEncoder\u001b[49m(X[\u001b[38;5;124m'\u001b[39m\u001b[38;5;124mGeography\u001b[39m\u001b[38;5;124m'\u001b[39m],drop_first\u001b[38;5;241m=\u001b[39m\u001b[38;5;28;01mTrue\u001b[39;00m)\n\u001b[1;32m      3\u001b[0m gender\u001b[38;5;241m=\u001b[39mpd\u001b[38;5;241m.\u001b[39mget_dummies(X[\u001b[38;5;124m'\u001b[39m\u001b[38;5;124mGender\u001b[39m\u001b[38;5;124m'\u001b[39m],drop_first\u001b[38;5;241m=\u001b[39m\u001b[38;5;28;01mTrue\u001b[39;00m)\n",
      "\u001b[0;31mAttributeError\u001b[0m: module 'pandas' has no attribute 'OneHotEncoder'"
     ]
    }
   ],
   "source": [
    "#Feature Eng\n",
    "geography=pd.OneHotEncoder(X['Geography'],drop_first=True)\n",
    "gender=pd.get_dummies(X['Gender'],drop_first=True)"
   ]
  },
  {
   "cell_type": "code",
   "execution_count": 22,
   "id": "d68bcf38-ce87-4fd7-a0ca-aabaa02f4a94",
   "metadata": {},
   "outputs": [
    {
     "data": {
      "text/html": [
       "<div>\n",
       "<style scoped>\n",
       "    .dataframe tbody tr th:only-of-type {\n",
       "        vertical-align: middle;\n",
       "    }\n",
       "\n",
       "    .dataframe tbody tr th {\n",
       "        vertical-align: top;\n",
       "    }\n",
       "\n",
       "    .dataframe thead th {\n",
       "        text-align: right;\n",
       "    }\n",
       "</style>\n",
       "<table border=\"1\" class=\"dataframe\">\n",
       "  <thead>\n",
       "    <tr style=\"text-align: right;\">\n",
       "      <th></th>\n",
       "      <th>Male</th>\n",
       "    </tr>\n",
       "  </thead>\n",
       "  <tbody>\n",
       "    <tr>\n",
       "      <th>0</th>\n",
       "      <td>False</td>\n",
       "    </tr>\n",
       "    <tr>\n",
       "      <th>1</th>\n",
       "      <td>False</td>\n",
       "    </tr>\n",
       "    <tr>\n",
       "      <th>2</th>\n",
       "      <td>False</td>\n",
       "    </tr>\n",
       "    <tr>\n",
       "      <th>3</th>\n",
       "      <td>False</td>\n",
       "    </tr>\n",
       "    <tr>\n",
       "      <th>4</th>\n",
       "      <td>False</td>\n",
       "    </tr>\n",
       "  </tbody>\n",
       "</table>\n",
       "</div>"
      ],
      "text/plain": [
       "    Male\n",
       "0  False\n",
       "1  False\n",
       "2  False\n",
       "3  False\n",
       "4  False"
      ]
     },
     "execution_count": 22,
     "metadata": {},
     "output_type": "execute_result"
    }
   ],
   "source": [
    "geography.head()\n",
    "gender.head()"
   ]
  },
  {
   "cell_type": "code",
   "execution_count": 25,
   "id": "e809de21-832c-4312-9e8d-3d2ecbf2ff1d",
   "metadata": {},
   "outputs": [],
   "source": [
    "X=X.drop([\"Geography\",\"Gender\"],axis=1)"
   ]
  },
  {
   "cell_type": "code",
   "execution_count": 26,
   "id": "8b7b02dc-58df-4ee9-8658-cd1d70cb6439",
   "metadata": {},
   "outputs": [
    {
     "data": {
      "text/html": [
       "<div>\n",
       "<style scoped>\n",
       "    .dataframe tbody tr th:only-of-type {\n",
       "        vertical-align: middle;\n",
       "    }\n",
       "\n",
       "    .dataframe tbody tr th {\n",
       "        vertical-align: top;\n",
       "    }\n",
       "\n",
       "    .dataframe thead th {\n",
       "        text-align: right;\n",
       "    }\n",
       "</style>\n",
       "<table border=\"1\" class=\"dataframe\">\n",
       "  <thead>\n",
       "    <tr style=\"text-align: right;\">\n",
       "      <th></th>\n",
       "      <th>CreditScore</th>\n",
       "      <th>Age</th>\n",
       "      <th>Tenure</th>\n",
       "      <th>Balance</th>\n",
       "      <th>NumOfProducts</th>\n",
       "      <th>HasCrCard</th>\n",
       "      <th>IsActiveMember</th>\n",
       "      <th>EstimatedSalary</th>\n",
       "    </tr>\n",
       "  </thead>\n",
       "  <tbody>\n",
       "    <tr>\n",
       "      <th>0</th>\n",
       "      <td>619</td>\n",
       "      <td>42</td>\n",
       "      <td>2</td>\n",
       "      <td>0.00</td>\n",
       "      <td>1</td>\n",
       "      <td>1</td>\n",
       "      <td>1</td>\n",
       "      <td>101348.88</td>\n",
       "    </tr>\n",
       "    <tr>\n",
       "      <th>1</th>\n",
       "      <td>608</td>\n",
       "      <td>41</td>\n",
       "      <td>1</td>\n",
       "      <td>83807.86</td>\n",
       "      <td>1</td>\n",
       "      <td>0</td>\n",
       "      <td>1</td>\n",
       "      <td>112542.58</td>\n",
       "    </tr>\n",
       "    <tr>\n",
       "      <th>2</th>\n",
       "      <td>502</td>\n",
       "      <td>42</td>\n",
       "      <td>8</td>\n",
       "      <td>159660.80</td>\n",
       "      <td>3</td>\n",
       "      <td>1</td>\n",
       "      <td>0</td>\n",
       "      <td>113931.57</td>\n",
       "    </tr>\n",
       "    <tr>\n",
       "      <th>3</th>\n",
       "      <td>699</td>\n",
       "      <td>39</td>\n",
       "      <td>1</td>\n",
       "      <td>0.00</td>\n",
       "      <td>2</td>\n",
       "      <td>0</td>\n",
       "      <td>0</td>\n",
       "      <td>93826.63</td>\n",
       "    </tr>\n",
       "    <tr>\n",
       "      <th>4</th>\n",
       "      <td>850</td>\n",
       "      <td>43</td>\n",
       "      <td>2</td>\n",
       "      <td>125510.82</td>\n",
       "      <td>1</td>\n",
       "      <td>1</td>\n",
       "      <td>1</td>\n",
       "      <td>79084.10</td>\n",
       "    </tr>\n",
       "  </tbody>\n",
       "</table>\n",
       "</div>"
      ],
      "text/plain": [
       "   CreditScore  Age  Tenure    Balance  NumOfProducts  HasCrCard  \\\n",
       "0          619   42       2       0.00              1          1   \n",
       "1          608   41       1   83807.86              1          0   \n",
       "2          502   42       8  159660.80              3          1   \n",
       "3          699   39       1       0.00              2          0   \n",
       "4          850   43       2  125510.82              1          1   \n",
       "\n",
       "   IsActiveMember  EstimatedSalary  \n",
       "0               1        101348.88  \n",
       "1               1        112542.58  \n",
       "2               0        113931.57  \n",
       "3               0         93826.63  \n",
       "4               1         79084.10  "
      ]
     },
     "execution_count": 26,
     "metadata": {},
     "output_type": "execute_result"
    }
   ],
   "source": [
    "X.head()"
   ]
  },
  {
   "cell_type": "code",
   "execution_count": 27,
   "id": "21d318b9-12a5-461b-933c-a414fe54ac77",
   "metadata": {},
   "outputs": [],
   "source": [
    "X=pd.concat([X,geography,gender],axis=1)"
   ]
  },
  {
   "cell_type": "code",
   "execution_count": 28,
   "id": "555d3f00-ecce-418a-be31-b981263d9516",
   "metadata": {},
   "outputs": [
    {
     "data": {
      "text/html": [
       "<div>\n",
       "<style scoped>\n",
       "    .dataframe tbody tr th:only-of-type {\n",
       "        vertical-align: middle;\n",
       "    }\n",
       "\n",
       "    .dataframe tbody tr th {\n",
       "        vertical-align: top;\n",
       "    }\n",
       "\n",
       "    .dataframe thead th {\n",
       "        text-align: right;\n",
       "    }\n",
       "</style>\n",
       "<table border=\"1\" class=\"dataframe\">\n",
       "  <thead>\n",
       "    <tr style=\"text-align: right;\">\n",
       "      <th></th>\n",
       "      <th>CreditScore</th>\n",
       "      <th>Age</th>\n",
       "      <th>Tenure</th>\n",
       "      <th>Balance</th>\n",
       "      <th>NumOfProducts</th>\n",
       "      <th>HasCrCard</th>\n",
       "      <th>IsActiveMember</th>\n",
       "      <th>EstimatedSalary</th>\n",
       "      <th>Germany</th>\n",
       "      <th>Spain</th>\n",
       "      <th>Male</th>\n",
       "    </tr>\n",
       "  </thead>\n",
       "  <tbody>\n",
       "    <tr>\n",
       "      <th>0</th>\n",
       "      <td>619</td>\n",
       "      <td>42</td>\n",
       "      <td>2</td>\n",
       "      <td>0.00</td>\n",
       "      <td>1</td>\n",
       "      <td>1</td>\n",
       "      <td>1</td>\n",
       "      <td>101348.88</td>\n",
       "      <td>False</td>\n",
       "      <td>False</td>\n",
       "      <td>False</td>\n",
       "    </tr>\n",
       "    <tr>\n",
       "      <th>1</th>\n",
       "      <td>608</td>\n",
       "      <td>41</td>\n",
       "      <td>1</td>\n",
       "      <td>83807.86</td>\n",
       "      <td>1</td>\n",
       "      <td>0</td>\n",
       "      <td>1</td>\n",
       "      <td>112542.58</td>\n",
       "      <td>False</td>\n",
       "      <td>True</td>\n",
       "      <td>False</td>\n",
       "    </tr>\n",
       "    <tr>\n",
       "      <th>2</th>\n",
       "      <td>502</td>\n",
       "      <td>42</td>\n",
       "      <td>8</td>\n",
       "      <td>159660.80</td>\n",
       "      <td>3</td>\n",
       "      <td>1</td>\n",
       "      <td>0</td>\n",
       "      <td>113931.57</td>\n",
       "      <td>False</td>\n",
       "      <td>False</td>\n",
       "      <td>False</td>\n",
       "    </tr>\n",
       "    <tr>\n",
       "      <th>3</th>\n",
       "      <td>699</td>\n",
       "      <td>39</td>\n",
       "      <td>1</td>\n",
       "      <td>0.00</td>\n",
       "      <td>2</td>\n",
       "      <td>0</td>\n",
       "      <td>0</td>\n",
       "      <td>93826.63</td>\n",
       "      <td>False</td>\n",
       "      <td>False</td>\n",
       "      <td>False</td>\n",
       "    </tr>\n",
       "    <tr>\n",
       "      <th>4</th>\n",
       "      <td>850</td>\n",
       "      <td>43</td>\n",
       "      <td>2</td>\n",
       "      <td>125510.82</td>\n",
       "      <td>1</td>\n",
       "      <td>1</td>\n",
       "      <td>1</td>\n",
       "      <td>79084.10</td>\n",
       "      <td>False</td>\n",
       "      <td>True</td>\n",
       "      <td>False</td>\n",
       "    </tr>\n",
       "  </tbody>\n",
       "</table>\n",
       "</div>"
      ],
      "text/plain": [
       "   CreditScore  Age  Tenure    Balance  NumOfProducts  HasCrCard  \\\n",
       "0          619   42       2       0.00              1          1   \n",
       "1          608   41       1   83807.86              1          0   \n",
       "2          502   42       8  159660.80              3          1   \n",
       "3          699   39       1       0.00              2          0   \n",
       "4          850   43       2  125510.82              1          1   \n",
       "\n",
       "   IsActiveMember  EstimatedSalary  Germany  Spain   Male  \n",
       "0               1        101348.88    False  False  False  \n",
       "1               1        112542.58    False   True  False  \n",
       "2               0        113931.57    False  False  False  \n",
       "3               0         93826.63    False  False  False  \n",
       "4               1         79084.10    False   True  False  "
      ]
     },
     "execution_count": 28,
     "metadata": {},
     "output_type": "execute_result"
    }
   ],
   "source": [
    "X.head()"
   ]
  },
  {
   "cell_type": "code",
   "execution_count": 29,
   "id": "8441a14c-e446-45c7-8d58-77c1a9b76b49",
   "metadata": {},
   "outputs": [],
   "source": [
    "from sklearn.model_selection import train_test_split\n",
    "X_train,X_test,y_train,y_test=train_test_split(X,y)"
   ]
  },
  {
   "cell_type": "code",
   "execution_count": 34,
   "id": "4e5c3d3e-9cf0-41e1-adc4-00dfb26937e5",
   "metadata": {},
   "outputs": [],
   "source": [
    "from sklearn.preprocessing import StandardScaler\n",
    "sc=StandardScaler()"
   ]
  },
  {
   "cell_type": "code",
   "execution_count": 35,
   "id": "62346d76-0f80-41a4-82ef-e67b2e5eb081",
   "metadata": {},
   "outputs": [],
   "source": [
    "X_train=sc.fit_transform(X_train)\n",
    "X_test=sc.transform(X_test)"
   ]
  },
  {
   "cell_type": "code",
   "execution_count": 36,
   "id": "432205fa-58cd-414c-a68d-079fc5101538",
   "metadata": {},
   "outputs": [
    {
     "data": {
      "text/plain": [
       "array([[-0.06273753, -0.56123442,  1.3834302 , ..., -0.57693971,\n",
       "        -0.57591331,  0.91727561],\n",
       "       [ 1.48642225,  1.7064812 , -0.6940696 , ...,  1.73328336,\n",
       "        -0.57591331,  0.91727561],\n",
       "       [ 0.34004401, -0.93918702, -1.73281949, ..., -0.57693971,\n",
       "        -0.57591331, -1.09018488],\n",
       "       ...,\n",
       "       [ 1.34183401,  3.50175607,  1.72968016, ..., -0.57693971,\n",
       "        -0.57591331,  0.91727561],\n",
       "       [ 0.54659865,  0.57262339, -1.38656953, ..., -0.57693971,\n",
       "         1.73637245, -1.09018488],\n",
       "       [ 1.20757349,  0.85608784,  1.3834302 , ..., -0.57693971,\n",
       "        -0.57591331,  0.91727561]])"
      ]
     },
     "execution_count": 36,
     "metadata": {},
     "output_type": "execute_result"
    }
   ],
   "source": [
    "X_train"
   ]
  },
  {
   "cell_type": "code",
   "execution_count": 37,
   "id": "d7362169-c32e-4f85-a47f-02a9f1fa70cb",
   "metadata": {},
   "outputs": [
    {
     "data": {
      "text/plain": [
       "array([[ 1.41412813,  0.28915894,  1.72968016, ..., -0.57693971,\n",
       "        -0.57591331, -1.09018488],\n",
       "       [ 0.76348102,  0.19467079, -1.04031956, ...,  1.73328336,\n",
       "        -0.57591331,  0.91727561],\n",
       "       [ 2.06477524, -0.75021072, -0.34781963, ..., -0.57693971,\n",
       "         1.73637245, -1.09018488],\n",
       "       ...,\n",
       "       [-0.26929217, -0.27776997, -1.73281949, ..., -0.57693971,\n",
       "         1.73637245, -1.09018488],\n",
       "       [-0.64109051,  0.19467079, -1.04031956, ...,  1.73328336,\n",
       "        -0.57591331,  0.91727561],\n",
       "       [ 1.57937184,  0.38364709, -0.6940696 , ..., -0.57693971,\n",
       "         1.73637245,  0.91727561]])"
      ]
     },
     "execution_count": 37,
     "metadata": {},
     "output_type": "execute_result"
    }
   ],
   "source": [
    "X_test"
   ]
  },
  {
   "cell_type": "code",
   "execution_count": 38,
   "id": "3e55b8eb-6fed-446b-8820-372525805443",
   "metadata": {},
   "outputs": [
    {
     "data": {
      "text/plain": [
       "6207    0\n",
       "3827    1\n",
       "4932    0\n",
       "2556    0\n",
       "9145    0\n",
       "       ..\n",
       "2216    0\n",
       "9777    0\n",
       "1205    0\n",
       "2989    1\n",
       "8506    0\n",
       "Name: Exited, Length: 7500, dtype: int64"
      ]
     },
     "execution_count": 38,
     "metadata": {},
     "output_type": "execute_result"
    }
   ],
   "source": [
    "y_train"
   ]
  },
  {
   "cell_type": "code",
   "execution_count": 39,
   "id": "1bacd2ec-854e-4e83-80f0-c9914044d336",
   "metadata": {},
   "outputs": [],
   "source": [
    "#Now lets create ann"
   ]
  },
  {
   "cell_type": "code",
   "execution_count": 70,
   "id": "9aadf866-66a5-42bd-86ce-e6b2ec7226f9",
   "metadata": {},
   "outputs": [],
   "source": [
    "from tensorflow.keras.models import Sequential\n",
    "from tensorflow.keras.layers import Dense,Dropout\n",
    "from tensorflow.keras.layers import LeakyReLU,PReLU,ELU,ReLU\n",
    "from tensorflow.keras.layers import Dropout"
   ]
  },
  {
   "cell_type": "code",
   "execution_count": 71,
   "id": "109869d2-8bb7-44cc-82d6-69cf08eb7535",
   "metadata": {},
   "outputs": [],
   "source": [
    "classifier=Sequential()"
   ]
  },
  {
   "cell_type": "code",
   "execution_count": null,
   "id": "a31aaad8-cecb-48d9-88ff-0825c0f20888",
   "metadata": {},
   "outputs": [],
   "source": []
  },
  {
   "cell_type": "code",
   "execution_count": 74,
   "id": "b4196798-a7b8-4c39-beaa-1cba370a9a60",
   "metadata": {},
   "outputs": [],
   "source": [
    "#Add input layer\n",
    "classifier.add(Dense(units=11,activation='relu'))\n",
    "classifier.add(Dense(units=7,activation=\"relu\"))\n",
    "classifier.add(Dropout(0.3, noise_shape=None, seed=None, ))\n",
    "classifier.add(Dense(units=6,activation='relu'))"
   ]
  },
  {
   "cell_type": "code",
   "execution_count": 75,
   "id": "635daa1a-7952-4260-b6d9-47f38ebc0806",
   "metadata": {},
   "outputs": [],
   "source": [
    "classifier.add(Dense(units=1,activation='sigmoid'))"
   ]
  },
  {
   "cell_type": "code",
   "execution_count": null,
   "id": "547c70d7-a6ec-4223-8df5-01a077d8aa1c",
   "metadata": {},
   "outputs": [],
   "source": []
  },
  {
   "cell_type": "code",
   "execution_count": null,
   "id": "eb99091d-60b4-4818-b513-17b8660287e3",
   "metadata": {},
   "outputs": [],
   "source": []
  },
  {
   "cell_type": "code",
   "execution_count": 76,
   "id": "843f4ded-33a4-41da-9469-1a6d6f2521ac",
   "metadata": {},
   "outputs": [],
   "source": [
    "import tensorflow\n",
    "opt=tensorflow.keras.optimizers.Adam(learning_rate=0.01)"
   ]
  },
  {
   "cell_type": "code",
   "execution_count": 77,
   "id": "7aa33fa3-d759-4f42-a405-e6301858589d",
   "metadata": {},
   "outputs": [],
   "source": [
    "classifier.compile(optimizer=opt,loss='binary_crossentropy',metrics=['accuracy'])"
   ]
  },
  {
   "cell_type": "code",
   "execution_count": null,
   "id": "fb2f0260-66a6-4946-b920-2972545b03b9",
   "metadata": {},
   "outputs": [],
   "source": []
  },
  {
   "cell_type": "code",
   "execution_count": 78,
   "id": "4d4d6485-b3c6-4034-a1e3-c146a14deaa6",
   "metadata": {},
   "outputs": [],
   "source": [
    "#early stoping\n",
    "import tensorflow as tf \n",
    "early_stop=tf.keras.callbacks.EarlyStopping(\n",
    "    monitor='val_loss',\n",
    "    min_delta=0.0001,\n",
    "    patience=0,\n",
    "    verbose=0,\n",
    "    mode='auto',\n",
    "    baseline=None,\n",
    "    restore_best_weights=False,\n",
    "    start_from_epoch=0\n",
    ")"
   ]
  },
  {
   "cell_type": "code",
   "execution_count": 52,
   "id": "bd28a4dc-52f9-412f-856e-fc820ca0b541",
   "metadata": {},
   "outputs": [
    {
     "name": "stdout",
     "output_type": "stream",
     "text": [
      "Epoch 1/100\n"
     ]
    },
    {
     "name": "stderr",
     "output_type": "stream",
     "text": [
      "2024-09-01 16:56:34.991781: I tensorflow/core/grappler/optimizers/custom_graph_optimizer_registry.cc:117] Plugin optimizer for device_type GPU is enabled.\n"
     ]
    },
    {
     "name": "stdout",
     "output_type": "stream",
     "text": [
      "\u001b[1m503/503\u001b[0m \u001b[32m━━━━━━━━━━━━━━━━━━━━\u001b[0m\u001b[37m\u001b[0m \u001b[1m11s\u001b[0m 12ms/step - accuracy: 0.8088 - loss: 0.4486 - val_accuracy: 0.8441 - val_loss: 0.3857\n",
      "Epoch 2/100\n",
      "\u001b[1m503/503\u001b[0m \u001b[32m━━━━━━━━━━━━━━━━━━━━\u001b[0m\u001b[37m\u001b[0m \u001b[1m4s\u001b[0m 8ms/step - accuracy: 0.8402 - loss: 0.3914 - val_accuracy: 0.8494 - val_loss: 0.3658\n",
      "Epoch 3/100\n",
      "\u001b[1m503/503\u001b[0m \u001b[32m━━━━━━━━━━━━━━━━━━━━\u001b[0m\u001b[37m\u001b[0m \u001b[1m4s\u001b[0m 7ms/step - accuracy: 0.8628 - loss: 0.3365 - val_accuracy: 0.8558 - val_loss: 0.3727\n",
      "Epoch 4/100\n",
      "\u001b[1m503/503\u001b[0m \u001b[32m━━━━━━━━━━━━━━━━━━━━\u001b[0m\u001b[37m\u001b[0m \u001b[1m4s\u001b[0m 7ms/step - accuracy: 0.8608 - loss: 0.3493 - val_accuracy: 0.8582 - val_loss: 0.3526\n",
      "Epoch 5/100\n",
      "\u001b[1m503/503\u001b[0m \u001b[32m━━━━━━━━━━━━━━━━━━━━\u001b[0m\u001b[37m\u001b[0m \u001b[1m4s\u001b[0m 7ms/step - accuracy: 0.8537 - loss: 0.3572 - val_accuracy: 0.8586 - val_loss: 0.3541\n",
      "Epoch 6/100\n",
      "\u001b[1m503/503\u001b[0m \u001b[32m━━━━━━━━━━━━━━━━━━━━\u001b[0m\u001b[37m\u001b[0m \u001b[1m4s\u001b[0m 7ms/step - accuracy: 0.8677 - loss: 0.3320 - val_accuracy: 0.8570 - val_loss: 0.3531\n",
      "Epoch 7/100\n",
      "\u001b[1m503/503\u001b[0m \u001b[32m━━━━━━━━━━━━━━━━━━━━\u001b[0m\u001b[37m\u001b[0m \u001b[1m4s\u001b[0m 7ms/step - accuracy: 0.8614 - loss: 0.3481 - val_accuracy: 0.8582 - val_loss: 0.3582\n",
      "Epoch 8/100\n",
      "\u001b[1m503/503\u001b[0m \u001b[32m━━━━━━━━━━━━━━━━━━━━\u001b[0m\u001b[37m\u001b[0m \u001b[1m4s\u001b[0m 7ms/step - accuracy: 0.8647 - loss: 0.3362 - val_accuracy: 0.8590 - val_loss: 0.3469\n",
      "Epoch 9/100\n",
      "\u001b[1m503/503\u001b[0m \u001b[32m━━━━━━━━━━━━━━━━━━━━\u001b[0m\u001b[37m\u001b[0m \u001b[1m4s\u001b[0m 7ms/step - accuracy: 0.8605 - loss: 0.3421 - val_accuracy: 0.8554 - val_loss: 0.3481\n",
      "Epoch 10/100\n",
      "\u001b[1m503/503\u001b[0m \u001b[32m━━━━━━━━━━━━━━━━━━━━\u001b[0m\u001b[37m\u001b[0m \u001b[1m4s\u001b[0m 7ms/step - accuracy: 0.8618 - loss: 0.3384 - val_accuracy: 0.8558 - val_loss: 0.3448\n",
      "Epoch 11/100\n",
      "\u001b[1m503/503\u001b[0m \u001b[32m━━━━━━━━━━━━━━━━━━━━\u001b[0m\u001b[37m\u001b[0m \u001b[1m4s\u001b[0m 7ms/step - accuracy: 0.8599 - loss: 0.3346 - val_accuracy: 0.8457 - val_loss: 0.3769\n",
      "Epoch 12/100\n",
      "\u001b[1m503/503\u001b[0m \u001b[32m━━━━━━━━━━━━━━━━━━━━\u001b[0m\u001b[37m\u001b[0m \u001b[1m4s\u001b[0m 7ms/step - accuracy: 0.8659 - loss: 0.3229 - val_accuracy: 0.8607 - val_loss: 0.3446\n",
      "Epoch 13/100\n",
      "\u001b[1m503/503\u001b[0m \u001b[32m━━━━━━━━━━━━━━━━━━━━\u001b[0m\u001b[37m\u001b[0m \u001b[1m4s\u001b[0m 7ms/step - accuracy: 0.8609 - loss: 0.3356 - val_accuracy: 0.8631 - val_loss: 0.3467\n",
      "Epoch 14/100\n",
      "\u001b[1m503/503\u001b[0m \u001b[32m━━━━━━━━━━━━━━━━━━━━\u001b[0m\u001b[37m\u001b[0m \u001b[1m4s\u001b[0m 7ms/step - accuracy: 0.8618 - loss: 0.3355 - val_accuracy: 0.8550 - val_loss: 0.3538\n",
      "Epoch 15/100\n",
      "\u001b[1m503/503\u001b[0m \u001b[32m━━━━━━━━━━━━━━━━━━━━\u001b[0m\u001b[37m\u001b[0m \u001b[1m4s\u001b[0m 7ms/step - accuracy: 0.8592 - loss: 0.3401 - val_accuracy: 0.8538 - val_loss: 0.3552\n",
      "Epoch 16/100\n",
      "\u001b[1m503/503\u001b[0m \u001b[32m━━━━━━━━━━━━━━━━━━━━\u001b[0m\u001b[37m\u001b[0m \u001b[1m4s\u001b[0m 7ms/step - accuracy: 0.8582 - loss: 0.3398 - val_accuracy: 0.8590 - val_loss: 0.3439\n",
      "Epoch 17/100\n",
      "\u001b[1m503/503\u001b[0m \u001b[32m━━━━━━━━━━━━━━━━━━━━\u001b[0m\u001b[37m\u001b[0m \u001b[1m4s\u001b[0m 7ms/step - accuracy: 0.8694 - loss: 0.3180 - val_accuracy: 0.8615 - val_loss: 0.3449\n",
      "Epoch 18/100\n",
      "\u001b[1m503/503\u001b[0m \u001b[32m━━━━━━━━━━━━━━━━━━━━\u001b[0m\u001b[37m\u001b[0m \u001b[1m4s\u001b[0m 7ms/step - accuracy: 0.8599 - loss: 0.3270 - val_accuracy: 0.8607 - val_loss: 0.3514\n",
      "Epoch 19/100\n",
      "\u001b[1m503/503\u001b[0m \u001b[32m━━━━━━━━━━━━━━━━━━━━\u001b[0m\u001b[37m\u001b[0m \u001b[1m4s\u001b[0m 7ms/step - accuracy: 0.8645 - loss: 0.3263 - val_accuracy: 0.8522 - val_loss: 0.3515\n",
      "Epoch 20/100\n",
      "\u001b[1m503/503\u001b[0m \u001b[32m━━━━━━━━━━━━━━━━━━━━\u001b[0m\u001b[37m\u001b[0m \u001b[1m4s\u001b[0m 7ms/step - accuracy: 0.8679 - loss: 0.3259 - val_accuracy: 0.8595 - val_loss: 0.3458\n",
      "Epoch 21/100\n",
      "\u001b[1m503/503\u001b[0m \u001b[32m━━━━━━━━━━━━━━━━━━━━\u001b[0m\u001b[37m\u001b[0m \u001b[1m4s\u001b[0m 7ms/step - accuracy: 0.8661 - loss: 0.3327 - val_accuracy: 0.8619 - val_loss: 0.3480\n",
      "Epoch 22/100\n",
      "\u001b[1m503/503\u001b[0m \u001b[32m━━━━━━━━━━━━━━━━━━━━\u001b[0m\u001b[37m\u001b[0m \u001b[1m4s\u001b[0m 7ms/step - accuracy: 0.8636 - loss: 0.3257 - val_accuracy: 0.8550 - val_loss: 0.3615\n",
      "Epoch 23/100\n",
      "\u001b[1m503/503\u001b[0m \u001b[32m━━━━━━━━━━━━━━━━━━━━\u001b[0m\u001b[37m\u001b[0m \u001b[1m4s\u001b[0m 7ms/step - accuracy: 0.8622 - loss: 0.3403 - val_accuracy: 0.8607 - val_loss: 0.3510\n",
      "Epoch 24/100\n",
      "\u001b[1m503/503\u001b[0m \u001b[32m━━━━━━━━━━━━━━━━━━━━\u001b[0m\u001b[37m\u001b[0m \u001b[1m4s\u001b[0m 7ms/step - accuracy: 0.8579 - loss: 0.3364 - val_accuracy: 0.8590 - val_loss: 0.3497\n",
      "Epoch 25/100\n",
      "\u001b[1m503/503\u001b[0m \u001b[32m━━━━━━━━━━━━━━━━━━━━\u001b[0m\u001b[37m\u001b[0m \u001b[1m4s\u001b[0m 7ms/step - accuracy: 0.8714 - loss: 0.3302 - val_accuracy: 0.8603 - val_loss: 0.3545\n",
      "Epoch 26/100\n",
      "\u001b[1m503/503\u001b[0m \u001b[32m━━━━━━━━━━━━━━━━━━━━\u001b[0m\u001b[37m\u001b[0m \u001b[1m4s\u001b[0m 7ms/step - accuracy: 0.8690 - loss: 0.3251 - val_accuracy: 0.8615 - val_loss: 0.3496\n",
      "Epoch 27/100\n",
      "\u001b[1m503/503\u001b[0m \u001b[32m━━━━━━━━━━━━━━━━━━━━\u001b[0m\u001b[37m\u001b[0m \u001b[1m4s\u001b[0m 7ms/step - accuracy: 0.8569 - loss: 0.3472 - val_accuracy: 0.8558 - val_loss: 0.3550\n",
      "Epoch 28/100\n",
      "\u001b[1m503/503\u001b[0m \u001b[32m━━━━━━━━━━━━━━━━━━━━\u001b[0m\u001b[37m\u001b[0m \u001b[1m4s\u001b[0m 7ms/step - accuracy: 0.8637 - loss: 0.3324 - val_accuracy: 0.8558 - val_loss: 0.3506\n",
      "Epoch 29/100\n",
      "\u001b[1m503/503\u001b[0m \u001b[32m━━━━━━━━━━━━━━━━━━━━\u001b[0m\u001b[37m\u001b[0m \u001b[1m4s\u001b[0m 7ms/step - accuracy: 0.8640 - loss: 0.3197 - val_accuracy: 0.8595 - val_loss: 0.3506\n",
      "Epoch 30/100\n",
      "\u001b[1m503/503\u001b[0m \u001b[32m━━━━━━━━━━━━━━━━━━━━\u001b[0m\u001b[37m\u001b[0m \u001b[1m4s\u001b[0m 7ms/step - accuracy: 0.8616 - loss: 0.3247 - val_accuracy: 0.8485 - val_loss: 0.3621\n",
      "Epoch 31/100\n",
      "\u001b[1m503/503\u001b[0m \u001b[32m━━━━━━━━━━━━━━━━━━━━\u001b[0m\u001b[37m\u001b[0m \u001b[1m4s\u001b[0m 7ms/step - accuracy: 0.8620 - loss: 0.3402 - val_accuracy: 0.8538 - val_loss: 0.3945\n",
      "Epoch 32/100\n",
      "\u001b[1m503/503\u001b[0m \u001b[32m━━━━━━━━━━━━━━━━━━━━\u001b[0m\u001b[37m\u001b[0m \u001b[1m4s\u001b[0m 7ms/step - accuracy: 0.8608 - loss: 0.3359 - val_accuracy: 0.8542 - val_loss: 0.3631\n",
      "Epoch 33/100\n",
      "\u001b[1m503/503\u001b[0m \u001b[32m━━━━━━━━━━━━━━━━━━━━\u001b[0m\u001b[37m\u001b[0m \u001b[1m4s\u001b[0m 7ms/step - accuracy: 0.8655 - loss: 0.3293 - val_accuracy: 0.8506 - val_loss: 0.3594\n",
      "Epoch 34/100\n",
      "\u001b[1m503/503\u001b[0m \u001b[32m━━━━━━━━━━━━━━━━━━━━\u001b[0m\u001b[37m\u001b[0m \u001b[1m4s\u001b[0m 7ms/step - accuracy: 0.8667 - loss: 0.3215 - val_accuracy: 0.8562 - val_loss: 0.3572\n",
      "Epoch 35/100\n",
      "\u001b[1m503/503\u001b[0m \u001b[32m━━━━━━━━━━━━━━━━━━━━\u001b[0m\u001b[37m\u001b[0m \u001b[1m4s\u001b[0m 7ms/step - accuracy: 0.8792 - loss: 0.3075 - val_accuracy: 0.8574 - val_loss: 0.3629\n",
      "Epoch 36/100\n",
      "\u001b[1m503/503\u001b[0m \u001b[32m━━━━━━━━━━━━━━━━━━━━\u001b[0m\u001b[37m\u001b[0m \u001b[1m4s\u001b[0m 7ms/step - accuracy: 0.8638 - loss: 0.3326 - val_accuracy: 0.8627 - val_loss: 0.3531\n",
      "Epoch 37/100\n",
      "\u001b[1m503/503\u001b[0m \u001b[32m━━━━━━━━━━━━━━━━━━━━\u001b[0m\u001b[37m\u001b[0m \u001b[1m4s\u001b[0m 7ms/step - accuracy: 0.8714 - loss: 0.3171 - val_accuracy: 0.8586 - val_loss: 0.3549\n",
      "Epoch 38/100\n",
      "\u001b[1m503/503\u001b[0m \u001b[32m━━━━━━━━━━━━━━━━━━━━\u001b[0m\u001b[37m\u001b[0m \u001b[1m4s\u001b[0m 7ms/step - accuracy: 0.8586 - loss: 0.3411 - val_accuracy: 0.8603 - val_loss: 0.3618\n",
      "Epoch 39/100\n",
      "\u001b[1m503/503\u001b[0m \u001b[32m━━━━━━━━━━━━━━━━━━━━\u001b[0m\u001b[37m\u001b[0m \u001b[1m4s\u001b[0m 7ms/step - accuracy: 0.8663 - loss: 0.3273 - val_accuracy: 0.8611 - val_loss: 0.3584\n",
      "Epoch 40/100\n",
      "\u001b[1m503/503\u001b[0m \u001b[32m━━━━━━━━━━━━━━━━━━━━\u001b[0m\u001b[37m\u001b[0m \u001b[1m4s\u001b[0m 7ms/step - accuracy: 0.8668 - loss: 0.3310 - val_accuracy: 0.8546 - val_loss: 0.3638\n",
      "Epoch 41/100\n",
      "\u001b[1m503/503\u001b[0m \u001b[32m━━━━━━━━━━━━━━━━━━━━\u001b[0m\u001b[37m\u001b[0m \u001b[1m4s\u001b[0m 7ms/step - accuracy: 0.8689 - loss: 0.3284 - val_accuracy: 0.8590 - val_loss: 0.3649\n",
      "Epoch 42/100\n",
      "\u001b[1m503/503\u001b[0m \u001b[32m━━━━━━━━━━━━━━━━━━━━\u001b[0m\u001b[37m\u001b[0m \u001b[1m4s\u001b[0m 7ms/step - accuracy: 0.8694 - loss: 0.3239 - val_accuracy: 0.8578 - val_loss: 0.3570\n",
      "Epoch 43/100\n",
      "\u001b[1m503/503\u001b[0m \u001b[32m━━━━━━━━━━━━━━━━━━━━\u001b[0m\u001b[37m\u001b[0m \u001b[1m4s\u001b[0m 7ms/step - accuracy: 0.8761 - loss: 0.3138 - val_accuracy: 0.8590 - val_loss: 0.3715\n",
      "Epoch 44/100\n",
      "\u001b[1m503/503\u001b[0m \u001b[32m━━━━━━━━━━━━━━━━━━━━\u001b[0m\u001b[37m\u001b[0m \u001b[1m4s\u001b[0m 8ms/step - accuracy: 0.8741 - loss: 0.3123 - val_accuracy: 0.8570 - val_loss: 0.3606\n",
      "Epoch 45/100\n",
      "\u001b[1m503/503\u001b[0m \u001b[32m━━━━━━━━━━━━━━━━━━━━\u001b[0m\u001b[37m\u001b[0m \u001b[1m4s\u001b[0m 7ms/step - accuracy: 0.8687 - loss: 0.3214 - val_accuracy: 0.8590 - val_loss: 0.3613\n",
      "Epoch 46/100\n",
      "\u001b[1m503/503\u001b[0m \u001b[32m━━━━━━━━━━━━━━━━━━━━\u001b[0m\u001b[37m\u001b[0m \u001b[1m4s\u001b[0m 7ms/step - accuracy: 0.8656 - loss: 0.3305 - val_accuracy: 0.8469 - val_loss: 0.3638\n",
      "Epoch 47/100\n",
      "\u001b[1m503/503\u001b[0m \u001b[32m━━━━━━━━━━━━━━━━━━━━\u001b[0m\u001b[37m\u001b[0m \u001b[1m4s\u001b[0m 8ms/step - accuracy: 0.8662 - loss: 0.3159 - val_accuracy: 0.8615 - val_loss: 0.3519\n",
      "Epoch 48/100\n",
      "\u001b[1m503/503\u001b[0m \u001b[32m━━━━━━━━━━━━━━━━━━━━\u001b[0m\u001b[37m\u001b[0m \u001b[1m4s\u001b[0m 8ms/step - accuracy: 0.8686 - loss: 0.3205 - val_accuracy: 0.8554 - val_loss: 0.3657\n",
      "Epoch 49/100\n",
      "\u001b[1m503/503\u001b[0m \u001b[32m━━━━━━━━━━━━━━━━━━━━\u001b[0m\u001b[37m\u001b[0m \u001b[1m4s\u001b[0m 8ms/step - accuracy: 0.8682 - loss: 0.3171 - val_accuracy: 0.8595 - val_loss: 0.3684\n",
      "Epoch 50/100\n",
      "\u001b[1m503/503\u001b[0m \u001b[32m━━━━━━━━━━━━━━━━━━━━\u001b[0m\u001b[37m\u001b[0m \u001b[1m4s\u001b[0m 8ms/step - accuracy: 0.8648 - loss: 0.3296 - val_accuracy: 0.8603 - val_loss: 0.3577\n",
      "Epoch 51/100\n",
      "\u001b[1m503/503\u001b[0m \u001b[32m━━━━━━━━━━━━━━━━━━━━\u001b[0m\u001b[37m\u001b[0m \u001b[1m4s\u001b[0m 7ms/step - accuracy: 0.8720 - loss: 0.3218 - val_accuracy: 0.8603 - val_loss: 0.3591\n",
      "Epoch 52/100\n",
      "\u001b[1m503/503\u001b[0m \u001b[32m━━━━━━━━━━━━━━━━━━━━\u001b[0m\u001b[37m\u001b[0m \u001b[1m4s\u001b[0m 7ms/step - accuracy: 0.8691 - loss: 0.3140 - val_accuracy: 0.8586 - val_loss: 0.3538\n",
      "Epoch 53/100\n",
      "\u001b[1m503/503\u001b[0m \u001b[32m━━━━━━━━━━━━━━━━━━━━\u001b[0m\u001b[37m\u001b[0m \u001b[1m4s\u001b[0m 8ms/step - accuracy: 0.8793 - loss: 0.3020 - val_accuracy: 0.8611 - val_loss: 0.3628\n",
      "Epoch 54/100\n",
      "\u001b[1m503/503\u001b[0m \u001b[32m━━━━━━━━━━━━━━━━━━━━\u001b[0m\u001b[37m\u001b[0m \u001b[1m4s\u001b[0m 8ms/step - accuracy: 0.8707 - loss: 0.3155 - val_accuracy: 0.8607 - val_loss: 0.3571\n",
      "Epoch 55/100\n",
      "\u001b[1m503/503\u001b[0m \u001b[32m━━━━━━━━━━━━━━━━━━━━\u001b[0m\u001b[37m\u001b[0m \u001b[1m4s\u001b[0m 8ms/step - accuracy: 0.8705 - loss: 0.3166 - val_accuracy: 0.8554 - val_loss: 0.3605\n",
      "Epoch 56/100\n",
      "\u001b[1m503/503\u001b[0m \u001b[32m━━━━━━━━━━━━━━━━━━━━\u001b[0m\u001b[37m\u001b[0m \u001b[1m4s\u001b[0m 8ms/step - accuracy: 0.8619 - loss: 0.3298 - val_accuracy: 0.8518 - val_loss: 0.3550\n",
      "Epoch 57/100\n",
      "\u001b[1m503/503\u001b[0m \u001b[32m━━━━━━━━━━━━━━━━━━━━\u001b[0m\u001b[37m\u001b[0m \u001b[1m4s\u001b[0m 8ms/step - accuracy: 0.8624 - loss: 0.3245 - val_accuracy: 0.8558 - val_loss: 0.3625\n",
      "Epoch 58/100\n",
      "\u001b[1m503/503\u001b[0m \u001b[32m━━━━━━━━━━━━━━━━━━━━\u001b[0m\u001b[37m\u001b[0m \u001b[1m4s\u001b[0m 8ms/step - accuracy: 0.8721 - loss: 0.3089 - val_accuracy: 0.8534 - val_loss: 0.3637\n",
      "Epoch 59/100\n",
      "\u001b[1m503/503\u001b[0m \u001b[32m━━━━━━━━━━━━━━━━━━━━\u001b[0m\u001b[37m\u001b[0m \u001b[1m4s\u001b[0m 8ms/step - accuracy: 0.8773 - loss: 0.3209 - val_accuracy: 0.8595 - val_loss: 0.3614\n",
      "Epoch 60/100\n",
      "\u001b[1m503/503\u001b[0m \u001b[32m━━━━━━━━━━━━━━━━━━━━\u001b[0m\u001b[37m\u001b[0m \u001b[1m4s\u001b[0m 8ms/step - accuracy: 0.8780 - loss: 0.3035 - val_accuracy: 0.8562 - val_loss: 0.3754\n",
      "Epoch 61/100\n",
      "\u001b[1m503/503\u001b[0m \u001b[32m━━━━━━━━━━━━━━━━━━━━\u001b[0m\u001b[37m\u001b[0m \u001b[1m4s\u001b[0m 7ms/step - accuracy: 0.8716 - loss: 0.3185 - val_accuracy: 0.8534 - val_loss: 0.3611\n",
      "Epoch 62/100\n",
      "\u001b[1m503/503\u001b[0m \u001b[32m━━━━━━━━━━━━━━━━━━━━\u001b[0m\u001b[37m\u001b[0m \u001b[1m4s\u001b[0m 8ms/step - accuracy: 0.8735 - loss: 0.3130 - val_accuracy: 0.8514 - val_loss: 0.3703\n",
      "Epoch 63/100\n",
      "\u001b[1m503/503\u001b[0m \u001b[32m━━━━━━━━━━━━━━━━━━━━\u001b[0m\u001b[37m\u001b[0m \u001b[1m4s\u001b[0m 8ms/step - accuracy: 0.8637 - loss: 0.3253 - val_accuracy: 0.8562 - val_loss: 0.3756\n",
      "Epoch 64/100\n",
      "\u001b[1m503/503\u001b[0m \u001b[32m━━━━━━━━━━━━━━━━━━━━\u001b[0m\u001b[37m\u001b[0m \u001b[1m4s\u001b[0m 8ms/step - accuracy: 0.8682 - loss: 0.3216 - val_accuracy: 0.8550 - val_loss: 0.3613\n",
      "Epoch 65/100\n",
      "\u001b[1m503/503\u001b[0m \u001b[32m━━━━━━━━━━━━━━━━━━━━\u001b[0m\u001b[37m\u001b[0m \u001b[1m4s\u001b[0m 7ms/step - accuracy: 0.8692 - loss: 0.3231 - val_accuracy: 0.8566 - val_loss: 0.3711\n",
      "Epoch 66/100\n",
      "\u001b[1m503/503\u001b[0m \u001b[32m━━━━━━━━━━━━━━━━━━━━\u001b[0m\u001b[37m\u001b[0m \u001b[1m4s\u001b[0m 8ms/step - accuracy: 0.8632 - loss: 0.3195 - val_accuracy: 0.8538 - val_loss: 0.3694\n",
      "Epoch 67/100\n",
      "\u001b[1m503/503\u001b[0m \u001b[32m━━━━━━━━━━━━━━━━━━━━\u001b[0m\u001b[37m\u001b[0m \u001b[1m4s\u001b[0m 8ms/step - accuracy: 0.8667 - loss: 0.3191 - val_accuracy: 0.8554 - val_loss: 0.3795\n",
      "Epoch 68/100\n",
      "\u001b[1m503/503\u001b[0m \u001b[32m━━━━━━━━━━━━━━━━━━━━\u001b[0m\u001b[37m\u001b[0m \u001b[1m4s\u001b[0m 7ms/step - accuracy: 0.8853 - loss: 0.2999 - val_accuracy: 0.8611 - val_loss: 0.3644\n",
      "Epoch 69/100\n",
      "\u001b[1m503/503\u001b[0m \u001b[32m━━━━━━━━━━━━━━━━━━━━\u001b[0m\u001b[37m\u001b[0m \u001b[1m4s\u001b[0m 8ms/step - accuracy: 0.8740 - loss: 0.3156 - val_accuracy: 0.8562 - val_loss: 0.3743\n",
      "Epoch 70/100\n",
      "\u001b[1m503/503\u001b[0m \u001b[32m━━━━━━━━━━━━━━━━━━━━\u001b[0m\u001b[37m\u001b[0m \u001b[1m4s\u001b[0m 8ms/step - accuracy: 0.8646 - loss: 0.3321 - val_accuracy: 0.8635 - val_loss: 0.3651\n",
      "Epoch 71/100\n",
      "\u001b[1m503/503\u001b[0m \u001b[32m━━━━━━━━━━━━━━━━━━━━\u001b[0m\u001b[37m\u001b[0m \u001b[1m4s\u001b[0m 8ms/step - accuracy: 0.8742 - loss: 0.3157 - val_accuracy: 0.8550 - val_loss: 0.3561\n",
      "Epoch 72/100\n",
      "\u001b[1m503/503\u001b[0m \u001b[32m━━━━━━━━━━━━━━━━━━━━\u001b[0m\u001b[37m\u001b[0m \u001b[1m4s\u001b[0m 8ms/step - accuracy: 0.8732 - loss: 0.3142 - val_accuracy: 0.8562 - val_loss: 0.3735\n",
      "Epoch 73/100\n",
      "\u001b[1m503/503\u001b[0m \u001b[32m━━━━━━━━━━━━━━━━━━━━\u001b[0m\u001b[37m\u001b[0m \u001b[1m4s\u001b[0m 8ms/step - accuracy: 0.8728 - loss: 0.3236 - val_accuracy: 0.8421 - val_loss: 0.4109\n",
      "Epoch 74/100\n",
      "\u001b[1m503/503\u001b[0m \u001b[32m━━━━━━━━━━━━━━━━━━━━\u001b[0m\u001b[37m\u001b[0m \u001b[1m4s\u001b[0m 8ms/step - accuracy: 0.8721 - loss: 0.3308 - val_accuracy: 0.8615 - val_loss: 0.3759\n",
      "Epoch 75/100\n",
      "\u001b[1m503/503\u001b[0m \u001b[32m━━━━━━━━━━━━━━━━━━━━\u001b[0m\u001b[37m\u001b[0m \u001b[1m4s\u001b[0m 8ms/step - accuracy: 0.8674 - loss: 0.3194 - val_accuracy: 0.8578 - val_loss: 0.3690\n",
      "Epoch 76/100\n",
      "\u001b[1m503/503\u001b[0m \u001b[32m━━━━━━━━━━━━━━━━━━━━\u001b[0m\u001b[37m\u001b[0m \u001b[1m4s\u001b[0m 8ms/step - accuracy: 0.8699 - loss: 0.3187 - val_accuracy: 0.8558 - val_loss: 0.3575\n",
      "Epoch 77/100\n",
      "\u001b[1m503/503\u001b[0m \u001b[32m━━━━━━━━━━━━━━━━━━━━\u001b[0m\u001b[37m\u001b[0m \u001b[1m4s\u001b[0m 8ms/step - accuracy: 0.8742 - loss: 0.3141 - val_accuracy: 0.8582 - val_loss: 0.3652\n",
      "Epoch 78/100\n",
      "\u001b[1m503/503\u001b[0m \u001b[32m━━━━━━━━━━━━━━━━━━━━\u001b[0m\u001b[37m\u001b[0m \u001b[1m4s\u001b[0m 8ms/step - accuracy: 0.8759 - loss: 0.3096 - val_accuracy: 0.8546 - val_loss: 0.3625\n",
      "Epoch 79/100\n",
      "\u001b[1m503/503\u001b[0m \u001b[32m━━━━━━━━━━━━━━━━━━━━\u001b[0m\u001b[37m\u001b[0m \u001b[1m4s\u001b[0m 8ms/step - accuracy: 0.8722 - loss: 0.3096 - val_accuracy: 0.8570 - val_loss: 0.3574\n",
      "Epoch 80/100\n",
      "\u001b[1m503/503\u001b[0m \u001b[32m━━━━━━━━━━━━━━━━━━━━\u001b[0m\u001b[37m\u001b[0m \u001b[1m4s\u001b[0m 7ms/step - accuracy: 0.8725 - loss: 0.3112 - val_accuracy: 0.8502 - val_loss: 0.3830\n",
      "Epoch 81/100\n",
      "\u001b[1m503/503\u001b[0m \u001b[32m━━━━━━━━━━━━━━━━━━━━\u001b[0m\u001b[37m\u001b[0m \u001b[1m4s\u001b[0m 8ms/step - accuracy: 0.8756 - loss: 0.3138 - val_accuracy: 0.8586 - val_loss: 0.3743\n",
      "Epoch 82/100\n",
      "\u001b[1m503/503\u001b[0m \u001b[32m━━━━━━━━━━━━━━━━━━━━\u001b[0m\u001b[37m\u001b[0m \u001b[1m4s\u001b[0m 8ms/step - accuracy: 0.8655 - loss: 0.3356 - val_accuracy: 0.8566 - val_loss: 0.3803\n",
      "Epoch 83/100\n",
      "\u001b[1m503/503\u001b[0m \u001b[32m━━━━━━━━━━━━━━━━━━━━\u001b[0m\u001b[37m\u001b[0m \u001b[1m4s\u001b[0m 8ms/step - accuracy: 0.8722 - loss: 0.3071 - val_accuracy: 0.8574 - val_loss: 0.3677\n",
      "Epoch 84/100\n",
      "\u001b[1m503/503\u001b[0m \u001b[32m━━━━━━━━━━━━━━━━━━━━\u001b[0m\u001b[37m\u001b[0m \u001b[1m4s\u001b[0m 8ms/step - accuracy: 0.8741 - loss: 0.3158 - val_accuracy: 0.8603 - val_loss: 0.3633\n",
      "Epoch 85/100\n",
      "\u001b[1m503/503\u001b[0m \u001b[32m━━━━━━━━━━━━━━━━━━━━\u001b[0m\u001b[37m\u001b[0m \u001b[1m4s\u001b[0m 8ms/step - accuracy: 0.8835 - loss: 0.3080 - val_accuracy: 0.8562 - val_loss: 0.3716\n",
      "Epoch 86/100\n",
      "\u001b[1m503/503\u001b[0m \u001b[32m━━━━━━━━━━━━━━━━━━━━\u001b[0m\u001b[37m\u001b[0m \u001b[1m4s\u001b[0m 8ms/step - accuracy: 0.8629 - loss: 0.3261 - val_accuracy: 0.8599 - val_loss: 0.3807\n",
      "Epoch 87/100\n",
      "\u001b[1m503/503\u001b[0m \u001b[32m━━━━━━━━━━━━━━━━━━━━\u001b[0m\u001b[37m\u001b[0m \u001b[1m4s\u001b[0m 8ms/step - accuracy: 0.8811 - loss: 0.2981 - val_accuracy: 0.8546 - val_loss: 0.3720\n",
      "Epoch 88/100\n",
      "\u001b[1m503/503\u001b[0m \u001b[32m━━━━━━━━━━━━━━━━━━━━\u001b[0m\u001b[37m\u001b[0m \u001b[1m4s\u001b[0m 8ms/step - accuracy: 0.8720 - loss: 0.3195 - val_accuracy: 0.8538 - val_loss: 0.3795\n",
      "Epoch 89/100\n",
      "\u001b[1m503/503\u001b[0m \u001b[32m━━━━━━━━━━━━━━━━━━━━\u001b[0m\u001b[37m\u001b[0m \u001b[1m4s\u001b[0m 8ms/step - accuracy: 0.8702 - loss: 0.3246 - val_accuracy: 0.8562 - val_loss: 0.3691\n",
      "Epoch 90/100\n",
      "\u001b[1m503/503\u001b[0m \u001b[32m━━━━━━━━━━━━━━━━━━━━\u001b[0m\u001b[37m\u001b[0m \u001b[1m4s\u001b[0m 8ms/step - accuracy: 0.8832 - loss: 0.3010 - val_accuracy: 0.8590 - val_loss: 0.3915\n",
      "Epoch 91/100\n",
      "\u001b[1m503/503\u001b[0m \u001b[32m━━━━━━━━━━━━━━━━━━━━\u001b[0m\u001b[37m\u001b[0m \u001b[1m4s\u001b[0m 8ms/step - accuracy: 0.8674 - loss: 0.3206 - val_accuracy: 0.8603 - val_loss: 0.3919\n",
      "Epoch 92/100\n",
      "\u001b[1m503/503\u001b[0m \u001b[32m━━━━━━━━━━━━━━━━━━━━\u001b[0m\u001b[37m\u001b[0m \u001b[1m4s\u001b[0m 8ms/step - accuracy: 0.8689 - loss: 0.3167 - val_accuracy: 0.8574 - val_loss: 0.3655\n",
      "Epoch 93/100\n",
      "\u001b[1m503/503\u001b[0m \u001b[32m━━━━━━━━━━━━━━━━━━━━\u001b[0m\u001b[37m\u001b[0m \u001b[1m4s\u001b[0m 7ms/step - accuracy: 0.8706 - loss: 0.3244 - val_accuracy: 0.8554 - val_loss: 0.3784\n",
      "Epoch 94/100\n",
      "\u001b[1m503/503\u001b[0m \u001b[32m━━━━━━━━━━━━━━━━━━━━\u001b[0m\u001b[37m\u001b[0m \u001b[1m4s\u001b[0m 8ms/step - accuracy: 0.8815 - loss: 0.2899 - val_accuracy: 0.8542 - val_loss: 0.3854\n",
      "Epoch 95/100\n",
      "\u001b[1m503/503\u001b[0m \u001b[32m━━━━━━━━━━━━━━━━━━━━\u001b[0m\u001b[37m\u001b[0m \u001b[1m4s\u001b[0m 8ms/step - accuracy: 0.8743 - loss: 0.3095 - val_accuracy: 0.8566 - val_loss: 0.3720\n",
      "Epoch 96/100\n",
      "\u001b[1m503/503\u001b[0m \u001b[32m━━━━━━━━━━━━━━━━━━━━\u001b[0m\u001b[37m\u001b[0m \u001b[1m4s\u001b[0m 8ms/step - accuracy: 0.8716 - loss: 0.3116 - val_accuracy: 0.8590 - val_loss: 0.3726\n",
      "Epoch 97/100\n",
      "\u001b[1m503/503\u001b[0m \u001b[32m━━━━━━━━━━━━━━━━━━━━\u001b[0m\u001b[37m\u001b[0m \u001b[1m4s\u001b[0m 8ms/step - accuracy: 0.8700 - loss: 0.3134 - val_accuracy: 0.8530 - val_loss: 0.3624\n",
      "Epoch 98/100\n",
      "\u001b[1m503/503\u001b[0m \u001b[32m━━━━━━━━━━━━━━━━━━━━\u001b[0m\u001b[37m\u001b[0m \u001b[1m4s\u001b[0m 8ms/step - accuracy: 0.8755 - loss: 0.3126 - val_accuracy: 0.8538 - val_loss: 0.3719\n",
      "Epoch 99/100\n",
      "\u001b[1m503/503\u001b[0m \u001b[32m━━━━━━━━━━━━━━━━━━━━\u001b[0m\u001b[37m\u001b[0m \u001b[1m4s\u001b[0m 8ms/step - accuracy: 0.8735 - loss: 0.3101 - val_accuracy: 0.8526 - val_loss: 0.3786\n",
      "Epoch 100/100\n",
      "\u001b[1m503/503\u001b[0m \u001b[32m━━━━━━━━━━━━━━━━━━━━\u001b[0m\u001b[37m\u001b[0m \u001b[1m4s\u001b[0m 8ms/step - accuracy: 0.8670 - loss: 0.3193 - val_accuracy: 0.8554 - val_loss: 0.3789\n"
     ]
    }
   ],
   "source": [
    "model_history=classifier.fit(X_train,y_train,validation_split=0.33,batch_size=10,epochs=100)"
   ]
  },
  {
   "cell_type": "code",
   "execution_count": 79,
   "id": "dbf4b74c-8a32-4807-a060-991a0548fd53",
   "metadata": {},
   "outputs": [
    {
     "name": "stdout",
     "output_type": "stream",
     "text": [
      "Epoch 1/100\n",
      "\u001b[1m503/503\u001b[0m \u001b[32m━━━━━━━━━━━━━━━━━━━━\u001b[0m\u001b[37m\u001b[0m \u001b[1m8s\u001b[0m 13ms/step - accuracy: 0.7884 - loss: 0.4919 - val_accuracy: 0.8207 - val_loss: 0.4243\n",
      "Epoch 2/100\n",
      "\u001b[1m503/503\u001b[0m \u001b[32m━━━━━━━━━━━━━━━━━━━━\u001b[0m\u001b[37m\u001b[0m \u001b[1m6s\u001b[0m 11ms/step - accuracy: 0.8271 - loss: 0.4185 - val_accuracy: 0.8304 - val_loss: 0.3916\n",
      "Epoch 3/100\n",
      "\u001b[1m503/503\u001b[0m \u001b[32m━━━━━━━━━━━━━━━━━━━━\u001b[0m\u001b[37m\u001b[0m \u001b[1m6s\u001b[0m 11ms/step - accuracy: 0.8499 - loss: 0.3866 - val_accuracy: 0.8566 - val_loss: 0.3948\n"
     ]
    }
   ],
   "source": [
    "model_history2=classifier.fit(X_train,y_train,validation_split=0.33,batch_size=10,epochs=100,callbacks=early_stop)"
   ]
  },
  {
   "cell_type": "code",
   "execution_count": 80,
   "id": "a0fa2697-c202-4e43-9818-a73076d0afad",
   "metadata": {},
   "outputs": [
    {
     "data": {
      "text/plain": [
       "dict_keys(['accuracy', 'loss', 'val_accuracy', 'val_loss'])"
      ]
     },
     "execution_count": 80,
     "metadata": {},
     "output_type": "execute_result"
    }
   ],
   "source": [
    "model_history2.history.keys()"
   ]
  },
  {
   "cell_type": "code",
   "execution_count": 81,
   "id": "f450b3c4-9927-4c70-a417-a2e71e7dd5c2",
   "metadata": {},
   "outputs": [
    {
     "data": {
      "text/plain": [
       "<matplotlib.legend.Legend at 0x31d374910>"
      ]
     },
     "execution_count": 81,
     "metadata": {},
     "output_type": "execute_result"
    },
    {
     "data": {
      "image/png": "[encoded data removed]",
      "text/plain": [
       "<Figure size 640x480 with 1 Axes>"
      ]
     },
     "metadata": {},
     "output_type": "display_data"
    }
   ],
   "source": [
    "plt.plot(model_history2.history[\"accuracy\"])\n",
    "plt.plot(model_history2.history[\"val_accuracy\"])\n",
    "plt.title('model_accuracy')\n",
    "plt.ylabel('accuracy')\n",
    "plt.xlabel('epoch')\n",
    "plt.legend(['train','test'],loc='upper left')"
   ]
  },
  {
   "cell_type": "code",
   "execution_count": 82,
   "id": "fc1e4590-edde-469a-a125-f33fc8bebd43",
   "metadata": {},
   "outputs": [
    {
     "name": "stdout",
     "output_type": "stream",
     "text": [
      "\u001b[1m79/79\u001b[0m \u001b[32m━━━━━━━━━━━━━━━━━━━━\u001b[0m\u001b[37m\u001b[0m \u001b[1m0s\u001b[0m 2ms/step\n"
     ]
    }
   ],
   "source": [
    "y_pred=classifier.predict(X_test)\n",
    "y_pred=(y_pred >=0.5)"
   ]
  },
  {
   "cell_type": "code",
   "execution_count": 83,
   "id": "17576c06-4618-4060-a4af-6730e7d5106c",
   "metadata": {},
   "outputs": [
    {
     "data": {
      "text/plain": [
       "array([[1904,   82],\n",
       "       [ 301,  213]])"
      ]
     },
     "execution_count": 83,
     "metadata": {},
     "output_type": "execute_result"
    }
   ],
   "source": [
    "from sklearn.metrics import confusion_matrix\n",
    "cm=confusion_matrix(y_test,y_pred)\n",
    "cm"
   ]
  },
  {
   "cell_type": "code",
   "execution_count": 84,
   "id": "c7e747af-2d63-46a0-aa78-f84d3dc53ceb",
   "metadata": {},
   "outputs": [],
   "source": [
    "#accuray\n",
    "from sklearn.metrics import accuracy_score\n",
    "score=accuracy_score(y_pred,y_test)"
   ]
  },
  {
   "cell_type": "code",
   "execution_count": 85,
   "id": "a9c49b11-dded-4880-84e3-5e59ce58169a",
   "metadata": {},
   "outputs": [
    {
     "data": {
      "text/plain": [
       "0.8468"
      ]
     },
     "execution_count": 85,
     "metadata": {},
     "output_type": "execute_result"
    }
   ],
   "source": [
    "score"
   ]
  },
  {
   "cell_type": "code",
   "execution_count": 86,
   "id": "290a9189-24cf-4ab8-bfcf-1c944f7d8dce",
   "metadata": {},
   "outputs": [
    {
     "data": {
      "text/plain": [
       "[array([[-8.96862596e-02,  8.74970853e-02,  8.31816643e-02,\n",
       "         -1.19534180e-01, -6.95087090e-02, -2.34348223e-01,\n",
       "          2.56392267e-02, -1.63768694e-01,  1.37875706e-01,\n",
       "          2.09294371e-02, -1.37022734e-01],\n",
       "        [ 5.85886776e-01, -1.65818825e-01, -1.17093980e+00,\n",
       "         -1.06522810e+00, -1.38326895e+00,  9.33865368e-01,\n",
       "         -7.16027498e-01,  2.06195727e-01, -9.19072255e-02,\n",
       "         -2.76522666e-01, -8.37700009e-01],\n",
       "        [-6.77055568e-02, -1.80789619e-03,  2.78828200e-02,\n",
       "         -3.82397830e-01, -4.74962406e-02,  6.57200888e-02,\n",
       "          2.88577229e-01, -2.31221523e-02,  1.52826115e-01,\n",
       "          1.33065693e-02, -2.75858372e-01],\n",
       "        [ 1.61795914e-01,  4.84745175e-01, -1.44117802e-01,\n",
       "          5.93410969e-01,  1.21485814e-01,  7.77830556e-02,\n",
       "          4.44111302e-02,  4.90344316e-01,  3.23875062e-02,\n",
       "         -9.16418970e-01,  5.95324934e-01],\n",
       "        [ 1.67590454e-01,  1.81661689e+00,  6.77666128e-01,\n",
       "          1.32622838e-01,  3.59040856e-01, -1.25144958e-04,\n",
       "          3.84299874e-01,  2.78113633e-01,  9.16505605e-02,\n",
       "          1.13785946e+00,  1.36690646e-01],\n",
       "        [ 2.46084318e-01, -1.80317283e-01,  4.48214337e-02,\n",
       "         -7.28129208e-01,  7.68214390e-02, -1.57819971e-01,\n",
       "          5.16168810e-02, -1.95881687e-02,  2.61837602e-01,\n",
       "          1.62095502e-01, -1.54809326e-01],\n",
       "        [ 1.72760761e+00,  1.14155687e-01, -1.11158468e-01,\n",
       "         -1.66041194e-04, -9.14675742e-02,  1.37647450e-01,\n",
       "          1.11697167e-01, -4.66740549e-01,  1.09764457e-01,\n",
       "          3.90933096e-01,  2.15824217e-01],\n",
       "        [-1.97908610e-01,  2.09456384e-01,  8.48270953e-02,\n",
       "          7.31328949e-02, -1.53755501e-01,  4.45204340e-02,\n",
       "          1.71210751e-01, -3.03459674e-01,  1.37652397e-01,\n",
       "          1.45808076e-02, -1.35111421e-01],\n",
       "        [-3.99096400e-01, -2.78526783e-01, -7.92171285e-02,\n",
       "         -1.36503726e-01, -6.70266747e-01, -3.00036490e-01,\n",
       "         -2.34139219e-01,  3.01259607e-01,  1.20726131e-01,\n",
       "          2.91405290e-01, -7.66042113e-01],\n",
       "        [ 5.23143709e-02, -1.22315146e-01, -1.74614027e-01,\n",
       "         -5.55995464e-01,  1.03582822e-01, -2.79153377e-01,\n",
       "         -9.36074480e-02,  1.09863885e-01,  1.94157243e-01,\n",
       "          2.87511766e-01,  1.00952260e-01],\n",
       "        [ 4.16146845e-01,  8.41579586e-03,  1.15995295e-02,\n",
       "         -4.24137972e-02,  2.90768653e-01, -4.35929120e-01,\n",
       "          4.97865826e-01,  1.37084022e-01,  2.40464538e-01,\n",
       "          1.53439909e-01, -1.56871334e-01]], dtype=float32),\n",
       " array([ 0.086863  , -1.756491  ,  1.2086275 ,  0.11807668,  0.99848413,\n",
       "        -0.7233211 ,  0.01418009, -0.5541534 , -0.70358074, -0.22320783,\n",
       "        -0.01768805], dtype=float32),\n",
       " array([[-0.16354991, -0.14899957, -0.5099706 ,  0.04496514,  0.8080839 ,\n",
       "          0.24750103, -1.0176486 ],\n",
       "        [-0.6844076 , -1.1854194 , -0.2589711 , -0.02597568, -0.71908456,\n",
       "         -1.2878007 ,  1.7976803 ],\n",
       "        [ 0.21152337,  0.7237637 , -0.38944387,  0.10700109,  0.8256447 ,\n",
       "          0.7706058 , -0.29781434],\n",
       "        [-0.12613465,  0.5463555 ,  0.00674165,  0.03797761,  0.2934556 ,\n",
       "         -0.30289096, -0.3384927 ],\n",
       "        [-0.12996039,  0.5503235 ,  0.01136748, -0.4598475 ,  0.40563813,\n",
       "          0.0931748 , -0.24748173],\n",
       "        [-0.9248812 , -0.81569827, -0.20871723,  0.0327539 ,  0.14459595,\n",
       "          0.09046149,  0.3400976 ],\n",
       "        [ 0.01517174, -0.06714143, -0.45811844, -0.26649177,  0.1451945 ,\n",
       "          0.19066149,  0.46820515],\n",
       "        [-0.01483804,  0.08463651, -0.07475226, -0.6296883 ,  0.04091724,\n",
       "         -0.03819923,  0.14067821],\n",
       "        [ 0.20532937,  0.01887373, -0.16176067,  0.06012334,  0.08269115,\n",
       "         -0.01699619,  0.05639553],\n",
       "        [ 0.54490316,  0.06801996, -0.6717068 ,  0.1375681 ,  0.44924244,\n",
       "          0.69793254,  0.6366431 ],\n",
       "        [-0.28234026,  0.4469385 , -0.02071067,  0.32288864,  0.08685401,\n",
       "         -0.24695235, -0.3384396 ]], dtype=float32),\n",
       " array([-0.2682861 ,  0.11150862, -0.44777244, -0.33515656,  0.04105992,\n",
       "        -0.07621761, -0.27539146], dtype=float32),\n",
       " array([[ 0.20978457,  0.36556935,  0.38670832, -0.01882301,  0.28638256,\n",
       "         -0.14317104,  0.10717825, -0.5319032 ,  0.15992631,  0.2924807 ,\n",
       "         -0.26367256],\n",
       "        [ 0.76745623,  0.28112715, -0.49920413,  0.24279892,  0.3443706 ,\n",
       "         -0.79382885,  0.48176965, -0.28573927, -0.44470364, -0.00848675,\n",
       "         -0.18516618],\n",
       "        [-0.09993407, -0.48524308, -0.49850944, -0.48432565, -0.18461964,\n",
       "         -0.13811101, -0.3271606 ,  0.42375124,  0.51159024,  0.21017419,\n",
       "          0.38090473],\n",
       "        [ 0.31131127,  0.26262563,  0.06193145,  0.2581321 , -0.36375394,\n",
       "         -0.03249951,  0.2816484 ,  0.02242968, -0.20936559, -0.20757113,\n",
       "         -0.6082723 ],\n",
       "        [ 0.558657  , -1.2151487 ,  0.41871965, -0.0369956 ,  0.11844155,\n",
       "         -0.0099678 ,  0.7880156 , -0.33447528,  0.38614002,  0.18248953,\n",
       "         -0.2179193 ],\n",
       "        [ 0.76201814, -0.35835215, -0.10170682,  0.42288718,  0.54858315,\n",
       "         -0.8786943 ,  0.43875426, -1.0162511 ,  0.4337509 ,  0.4284854 ,\n",
       "          0.4071992 ],\n",
       "        [-0.681696  ,  1.0285312 , -0.11344975, -0.77371866, -0.46567732,\n",
       "          0.20667708, -0.24918023,  0.24248275, -0.92226094, -0.6052098 ,\n",
       "         -0.00956182]], dtype=float32),\n",
       " array([-0.1310171 , -0.35369137, -0.20655918, -0.17141871, -0.1931384 ,\n",
       "        -0.17722447, -0.03649325, -0.22335312, -0.22225587, -0.18121299,\n",
       "        -0.3945663 ], dtype=float32),\n",
       " array([[ 0.29789722,  0.71845615, -0.30901095, -0.3226815 , -0.5707189 ,\n",
       "         -0.2857552 , -0.6216043 ],\n",
       "        [-0.2967184 , -0.31898442, -0.2091678 , -0.2098071 , -0.45324236,\n",
       "          0.7087798 , -0.38710314],\n",
       "        [ 0.13494557, -0.10583531,  0.45276624,  0.05724479, -0.3125956 ,\n",
       "         -0.4085746 ,  0.35469738],\n",
       "        [ 0.2912246 ,  0.17119345,  0.28087205, -0.34113953, -0.51346797,\n",
       "         -0.21965839,  0.22753602],\n",
       "        [-0.4169551 ,  0.31852993, -0.4564868 ,  0.37844908,  0.31101397,\n",
       "         -0.05378221,  0.3773061 ],\n",
       "        [ 0.19610846, -0.23605664,  0.18945639, -0.39123753, -0.5795149 ,\n",
       "          0.6154853 , -0.00128065],\n",
       "        [-0.45413288,  0.27030262, -0.13870499, -0.07795941, -0.04497833,\n",
       "         -0.39450282, -0.35125738],\n",
       "        [-0.28079918,  0.11919679,  0.09344976, -0.14845362,  0.41740373,\n",
       "          0.45428452,  0.06279739],\n",
       "        [-0.20547223,  0.24708243, -0.06171609,  0.21316856, -0.02473403,\n",
       "         -0.35932037, -0.4555261 ],\n",
       "        [ 0.02486825,  0.17153446,  0.2925852 , -0.4771306 ,  0.02262088,\n",
       "         -0.17890005,  0.16304596],\n",
       "        [-0.24370444, -0.03104591, -0.21486221,  0.2539113 , -0.04840546,\n",
       "         -0.1297569 , -0.5931514 ]], dtype=float32),\n",
       " array([-0.16566622, -0.19695006, -0.11492155, -0.14526013, -0.03027742,\n",
       "        -0.0705647 , -0.2706075 ], dtype=float32),\n",
       " array([[ 1.1662143e-01, -2.6335505e-01,  1.0021680e-01,  9.8930724e-02,\n",
       "          2.9974446e-01, -3.3899707e-01, -3.2637793e-01, -4.5750207e-01,\n",
       "         -5.0300437e-01,  2.1186842e-01,  5.0088704e-01],\n",
       "        [ 2.7978233e-01, -6.1504871e-01,  2.0205606e-02, -5.7548082e-01,\n",
       "          6.1710620e-01,  4.1595256e-04, -1.4702858e-01,  2.0275477e-01,\n",
       "         -5.7237142e-01, -5.7025266e-01,  2.7074432e-01],\n",
       "        [-2.2911370e-01, -1.1436185e-01, -4.0214378e-02, -4.2436522e-01,\n",
       "          2.9026421e-02, -3.1127369e-02,  4.7889006e-01,  7.1261585e-02,\n",
       "          1.0507864e-01,  3.6383370e-01,  1.4787160e-01],\n",
       "        [-3.6347814e-02,  4.9638033e-01,  5.1667199e-02, -6.0537815e-02,\n",
       "          3.6620101e-01,  1.0788501e-01, -3.2110325e-01,  1.5240540e-01,\n",
       "         -5.0523722e-01, -2.2996140e-01, -1.4771958e-01],\n",
       "        [ 2.3433396e-01,  4.6848938e-01, -4.9454769e-01, -2.1181786e-01,\n",
       "         -5.6754303e-01, -4.2724398e-01,  3.8792402e-02,  3.2443866e-01,\n",
       "         -2.3019105e-01, -1.7240012e-01,  1.6221470e-01],\n",
       "        [-8.9448817e-02, -8.9152120e-02,  2.1391604e-03,  3.3769083e-01,\n",
       "         -1.4356591e-01, -5.3560424e-01, -3.7189904e-01, -8.4047178e-03,\n",
       "         -1.7884806e-01,  4.7786349e-01, -6.2162012e-01],\n",
       "        [ 1.3057564e-01,  3.9785248e-01,  8.2562916e-02,  4.0681705e-01,\n",
       "         -3.4042788e-01,  4.9304384e-01, -1.3609718e-01,  5.9971607e-01,\n",
       "          7.2530724e-02,  3.8886586e-01, -3.4727201e-02]], dtype=float32),\n",
       " array([-0.07601779, -0.09649975, -0.37881947,  0.22570151, -0.07222504,\n",
       "        -0.15654895, -0.06004957, -0.29394448, -0.21176244,  0.60103524,\n",
       "        -0.1469764 ], dtype=float32),\n",
       " array([[ 0.49002784, -0.73498374,  0.46564794, -0.6286917 ,  0.23769796,\n",
       "         -0.45610797, -0.16515185],\n",
       "        [-0.19881812, -0.51178145,  0.32405594, -0.2848399 ,  0.19153126,\n",
       "         -0.21099435, -0.53476393],\n",
       "        [-0.2210636 , -0.07581054, -0.3544613 , -0.24450524,  0.42530653,\n",
       "         -0.12156013,  0.3246558 ],\n",
       "        [-0.61241573,  0.42124873, -0.2599678 ,  0.19021937, -0.16983128,\n",
       "          0.28303015,  0.5191876 ],\n",
       "        [ 0.47874177, -0.86686486,  0.4534441 , -0.39016265,  0.36181542,\n",
       "          0.48446944, -0.9022998 ],\n",
       "        [-0.43954554,  0.37679368, -0.3452429 ,  0.3643186 ,  0.4262011 ,\n",
       "         -0.25530902,  0.28020313],\n",
       "        [-0.17772184,  0.20493537,  0.02577601, -0.5488244 ,  0.48227468,\n",
       "         -0.09975019,  0.31056082],\n",
       "        [ 0.5712583 ,  0.18743424,  0.16057909,  0.1310922 ,  0.0764012 ,\n",
       "          0.27561   , -0.52935445],\n",
       "        [ 0.26170325, -0.47852266, -0.04142624,  0.44141448,  0.5724788 ,\n",
       "         -0.3950264 ,  0.16539186],\n",
       "        [-0.32797232,  0.3895339 , -0.50526625, -0.31907558, -0.36663294,\n",
       "         -0.85686034,  0.71530795],\n",
       "        [ 0.6939189 , -0.4015174 , -0.16702946, -0.39813778, -0.18925342,\n",
       "          0.17030086, -0.30349094]], dtype=float32),\n",
       " array([ 0.2711371 ,  0.4814093 , -0.10378592, -0.47287065, -0.16670041,\n",
       "        -0.08365396,  0.49027708], dtype=float32),\n",
       " array([[-0.3236915 ,  0.00992882, -0.48610717, -0.76037717,  0.3823085 ,\n",
       "         -0.23180422],\n",
       "        [-0.64131564, -0.05427665, -0.32069346, -1.1995033 , -0.90679485,\n",
       "          0.5406785 ],\n",
       "        [ 0.2614126 , -0.48526168, -1.0553367 ,  0.632518  ,  0.10610989,\n",
       "         -1.1175776 ],\n",
       "        [ 0.7562723 ,  0.21402094,  0.28344423,  0.36298656,  0.27665475,\n",
       "          0.6415251 ],\n",
       "        [ 0.06602295, -0.30565146,  0.49966675, -0.08038267,  0.19081433,\n",
       "         -0.4801189 ],\n",
       "        [ 0.1282675 , -0.79991704,  0.4950143 ,  0.14236888, -0.04797849,\n",
       "         -0.39318538],\n",
       "        [ 0.3705992 , -0.43173325, -0.7891493 , -1.0546745 , -0.6644094 ,\n",
       "          0.7632676 ]], dtype=float32),\n",
       " array([-0.48965594, -0.350373  ,  0.25028786,  0.3488453 ,  0.507291  ,\n",
       "         0.47617   ], dtype=float32),\n",
       " array([[ 0.09907296],\n",
       "        [ 0.09003531],\n",
       "        [-0.8170607 ],\n",
       "        [-0.49199143],\n",
       "        [-0.47905326],\n",
       "        [ 0.7096084 ]], dtype=float32),\n",
       " array([-0.13255836], dtype=float32)]"
      ]
     },
     "execution_count": 86,
     "metadata": {},
     "output_type": "execute_result"
    }
   ],
   "source": [
    "#get the weights\n",
    "classifier.get_weights()"
   ]
  },
  {
   "cell_type": "code",
   "execution_count": null,
   "id": "310068e8-d8c5-48d8-8aed-622cb40d4615",
   "metadata": {},
   "outputs": [],
   "source": []
  },
  {
   "cell_type": "code",
   "execution_count": null,
   "id": "e494c88a-59d3-4402-b5bc-777a3711fea3",
   "metadata": {},
   "outputs": [],
   "source": []
  },
  {
   "cell_type": "code",
   "execution_count": null,
   "id": "db73c541-4e28-4c0f-87df-5c0553441d66",
   "metadata": {},
   "outputs": [],
   "source": []
  },
  {
   "cell_type": "code",
   "execution_count": null,
   "id": "89dbe9e2-d4f0-49de-9fd0-29c2010729cd",
   "metadata": {},
   "outputs": [],
   "source": []
  },
  {
   "cell_type": "code",
   "execution_count": null,
   "id": "4368dc76-0ff7-47c7-a09c-c1d43c6912a6",
   "metadata": {},
   "outputs": [],
   "source": []
  }
 ],
 "metadata": {
  "kernelspec": {
   "display_name": "Python 3 (ipykernel)",
   "language": "python",
   "name": "python3"
  },
  "language_info": {
   "codemirror_mode": {
    "name": "ipython",
    "version": 3
   },
   "file_extension": ".py",
   "mimetype": "text/x-python",
   "name": "python",
   "nbconvert_exporter": "python",
   "pygments_lexer": "ipython3",
   "version": "3.10.14"
  }
 },
 "nbformat": 4,
 "nbformat_minor": 5
}
